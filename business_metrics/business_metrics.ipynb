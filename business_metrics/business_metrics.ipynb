{
 "cells": [
  {
   "cell_type": "markdown",
   "metadata": {},
   "source": [
    "## Импорт библиотек"
   ]
  },
  {
   "cell_type": "code",
   "execution_count": 1,
   "metadata": {},
   "outputs": [],
   "source": [
    "import pandas as pd\n",
    "import matplotlib.pyplot as plt\n",
    "from scipy import stats as st\n",
    "import numpy as np\n",
    "import seaborn as sns\n",
    "import datetime\n",
    "import warnings\n",
    "warnings.filterwarnings('ignore')"
   ]
  },
  {
   "cell_type": "markdown",
   "metadata": {},
   "source": [
    "## Получение данных"
   ]
  },
  {
   "cell_type": "code",
   "execution_count": 2,
   "metadata": {},
   "outputs": [
    {
     "data": {
      "text/html": [
       "<div>\n",
       "<style scoped>\n",
       "    .dataframe tbody tr th:only-of-type {\n",
       "        vertical-align: middle;\n",
       "    }\n",
       "\n",
       "    .dataframe tbody tr th {\n",
       "        vertical-align: top;\n",
       "    }\n",
       "\n",
       "    .dataframe thead th {\n",
       "        text-align: right;\n",
       "    }\n",
       "</style>\n",
       "<table border=\"1\" class=\"dataframe\">\n",
       "  <thead>\n",
       "    <tr style=\"text-align: right;\">\n",
       "      <th></th>\n",
       "      <th>Uid</th>\n",
       "      <th>Device</th>\n",
       "      <th>End Ts</th>\n",
       "      <th>Source Id</th>\n",
       "      <th>Start Ts</th>\n",
       "    </tr>\n",
       "  </thead>\n",
       "  <tbody>\n",
       "    <tr>\n",
       "      <th>0</th>\n",
       "      <td>16879256277535980062</td>\n",
       "      <td>touch</td>\n",
       "      <td>20.12.2017 17:38</td>\n",
       "      <td>4</td>\n",
       "      <td>20.12.2017 17:20</td>\n",
       "    </tr>\n",
       "    <tr>\n",
       "      <th>1</th>\n",
       "      <td>104060357244891740</td>\n",
       "      <td>desktop</td>\n",
       "      <td>19.02.2018 17:21</td>\n",
       "      <td>2</td>\n",
       "      <td>19.02.2018 16:53</td>\n",
       "    </tr>\n",
       "    <tr>\n",
       "      <th>2</th>\n",
       "      <td>7459035603376831527</td>\n",
       "      <td>touch</td>\n",
       "      <td>01.07.2017 1:54</td>\n",
       "      <td>5</td>\n",
       "      <td>01.07.2017 1:54</td>\n",
       "    </tr>\n",
       "    <tr>\n",
       "      <th>3</th>\n",
       "      <td>16174680259334210214</td>\n",
       "      <td>desktop</td>\n",
       "      <td>20.05.2018 11:23</td>\n",
       "      <td>9</td>\n",
       "      <td>20.05.2018 10:59</td>\n",
       "    </tr>\n",
       "    <tr>\n",
       "      <th>4</th>\n",
       "      <td>9969694820036681168</td>\n",
       "      <td>desktop</td>\n",
       "      <td>27.12.2017 14:06</td>\n",
       "      <td>3</td>\n",
       "      <td>27.12.2017 14:06</td>\n",
       "    </tr>\n",
       "  </tbody>\n",
       "</table>\n",
       "</div>"
      ],
      "text/plain": [
       "                    Uid   Device            End Ts  Source Id  \\\n",
       "0  16879256277535980062    touch  20.12.2017 17:38          4   \n",
       "1    104060357244891740  desktop  19.02.2018 17:21          2   \n",
       "2   7459035603376831527    touch   01.07.2017 1:54          5   \n",
       "3  16174680259334210214  desktop  20.05.2018 11:23          9   \n",
       "4   9969694820036681168  desktop  27.12.2017 14:06          3   \n",
       "\n",
       "           Start Ts  \n",
       "0  20.12.2017 17:20  \n",
       "1  19.02.2018 16:53  \n",
       "2   01.07.2017 1:54  \n",
       "3  20.05.2018 10:59  \n",
       "4  27.12.2017 14:06  "
      ]
     },
     "execution_count": 2,
     "metadata": {},
     "output_type": "execute_result"
    }
   ],
   "source": [
    "visits = pd.read_csv('/datasets/visits_log.csv')\n",
    "visits.head()"
   ]
  },
  {
   "cell_type": "code",
   "execution_count": 3,
   "metadata": {},
   "outputs": [
    {
     "data": {
      "text/html": [
       "<div>\n",
       "<style scoped>\n",
       "    .dataframe tbody tr th:only-of-type {\n",
       "        vertical-align: middle;\n",
       "    }\n",
       "\n",
       "    .dataframe tbody tr th {\n",
       "        vertical-align: top;\n",
       "    }\n",
       "\n",
       "    .dataframe thead th {\n",
       "        text-align: right;\n",
       "    }\n",
       "</style>\n",
       "<table border=\"1\" class=\"dataframe\">\n",
       "  <thead>\n",
       "    <tr style=\"text-align: right;\">\n",
       "      <th></th>\n",
       "      <th>Buy Ts</th>\n",
       "      <th>Revenue</th>\n",
       "      <th>Uid</th>\n",
       "    </tr>\n",
       "  </thead>\n",
       "  <tbody>\n",
       "    <tr>\n",
       "      <th>0</th>\n",
       "      <td>2017-06-01 00:10:00</td>\n",
       "      <td>17.00</td>\n",
       "      <td>10329302124590727494</td>\n",
       "    </tr>\n",
       "    <tr>\n",
       "      <th>1</th>\n",
       "      <td>2017-06-01 00:25:00</td>\n",
       "      <td>0.55</td>\n",
       "      <td>11627257723692907447</td>\n",
       "    </tr>\n",
       "    <tr>\n",
       "      <th>2</th>\n",
       "      <td>2017-06-01 00:27:00</td>\n",
       "      <td>0.37</td>\n",
       "      <td>17903680561304213844</td>\n",
       "    </tr>\n",
       "    <tr>\n",
       "      <th>3</th>\n",
       "      <td>2017-06-01 00:29:00</td>\n",
       "      <td>0.55</td>\n",
       "      <td>16109239769442553005</td>\n",
       "    </tr>\n",
       "    <tr>\n",
       "      <th>4</th>\n",
       "      <td>2017-06-01 07:58:00</td>\n",
       "      <td>0.37</td>\n",
       "      <td>14200605875248379450</td>\n",
       "    </tr>\n",
       "  </tbody>\n",
       "</table>\n",
       "</div>"
      ],
      "text/plain": [
       "                Buy Ts  Revenue                   Uid\n",
       "0  2017-06-01 00:10:00    17.00  10329302124590727494\n",
       "1  2017-06-01 00:25:00     0.55  11627257723692907447\n",
       "2  2017-06-01 00:27:00     0.37  17903680561304213844\n",
       "3  2017-06-01 00:29:00     0.55  16109239769442553005\n",
       "4  2017-06-01 07:58:00     0.37  14200605875248379450"
      ]
     },
     "execution_count": 3,
     "metadata": {},
     "output_type": "execute_result"
    }
   ],
   "source": [
    "orders = pd.read_csv('/datasets/orders_log.csv')\n",
    "orders.head()"
   ]
  },
  {
   "cell_type": "code",
   "execution_count": 4,
   "metadata": {},
   "outputs": [
    {
     "data": {
      "text/html": [
       "<div>\n",
       "<style scoped>\n",
       "    .dataframe tbody tr th:only-of-type {\n",
       "        vertical-align: middle;\n",
       "    }\n",
       "\n",
       "    .dataframe tbody tr th {\n",
       "        vertical-align: top;\n",
       "    }\n",
       "\n",
       "    .dataframe thead th {\n",
       "        text-align: right;\n",
       "    }\n",
       "</style>\n",
       "<table border=\"1\" class=\"dataframe\">\n",
       "  <thead>\n",
       "    <tr style=\"text-align: right;\">\n",
       "      <th></th>\n",
       "      <th>source_id</th>\n",
       "      <th>dt</th>\n",
       "      <th>costs</th>\n",
       "    </tr>\n",
       "  </thead>\n",
       "  <tbody>\n",
       "    <tr>\n",
       "      <th>0</th>\n",
       "      <td>1</td>\n",
       "      <td>2017-06-01</td>\n",
       "      <td>75.20</td>\n",
       "    </tr>\n",
       "    <tr>\n",
       "      <th>1</th>\n",
       "      <td>1</td>\n",
       "      <td>2017-06-02</td>\n",
       "      <td>62.25</td>\n",
       "    </tr>\n",
       "    <tr>\n",
       "      <th>2</th>\n",
       "      <td>1</td>\n",
       "      <td>2017-06-03</td>\n",
       "      <td>36.53</td>\n",
       "    </tr>\n",
       "    <tr>\n",
       "      <th>3</th>\n",
       "      <td>1</td>\n",
       "      <td>2017-06-04</td>\n",
       "      <td>55.00</td>\n",
       "    </tr>\n",
       "    <tr>\n",
       "      <th>4</th>\n",
       "      <td>1</td>\n",
       "      <td>2017-06-05</td>\n",
       "      <td>57.08</td>\n",
       "    </tr>\n",
       "  </tbody>\n",
       "</table>\n",
       "</div>"
      ],
      "text/plain": [
       "   source_id          dt  costs\n",
       "0          1  2017-06-01  75.20\n",
       "1          1  2017-06-02  62.25\n",
       "2          1  2017-06-03  36.53\n",
       "3          1  2017-06-04  55.00\n",
       "4          1  2017-06-05  57.08"
      ]
     },
     "execution_count": 4,
     "metadata": {},
     "output_type": "execute_result"
    }
   ],
   "source": [
    "costs = pd.read_csv('/datasets/costs.csv')\n",
    "costs.head()"
   ]
  },
  {
   "cell_type": "markdown",
   "metadata": {},
   "source": [
    "Данные загрузились успешно.\n",
    "## Общие сведения о данных"
   ]
  },
  {
   "cell_type": "code",
   "execution_count": 5,
   "metadata": {},
   "outputs": [
    {
     "name": "stdout",
     "output_type": "stream",
     "text": [
      "<class 'pandas.core.frame.DataFrame'>\n",
      "RangeIndex: 358532 entries, 0 to 358531\n",
      "Data columns (total 5 columns):\n",
      "Uid          358532 non-null uint64\n",
      "Device       358532 non-null object\n",
      "End Ts       358532 non-null object\n",
      "Source Id    358532 non-null int64\n",
      "Start Ts     358532 non-null object\n",
      "dtypes: int64(1), object(3), uint64(1)\n",
      "memory usage: 13.7+ MB\n",
      "\n",
      "<class 'pandas.core.frame.DataFrame'>\n",
      "RangeIndex: 50415 entries, 0 to 50414\n",
      "Data columns (total 3 columns):\n",
      "Buy Ts     50415 non-null object\n",
      "Revenue    50415 non-null float64\n",
      "Uid        50415 non-null uint64\n",
      "dtypes: float64(1), object(1), uint64(1)\n",
      "memory usage: 1.2+ MB\n",
      "\n",
      "<class 'pandas.core.frame.DataFrame'>\n",
      "RangeIndex: 2542 entries, 0 to 2541\n",
      "Data columns (total 3 columns):\n",
      "source_id    2542 non-null int64\n",
      "dt           2542 non-null object\n",
      "costs        2542 non-null float64\n",
      "dtypes: float64(1), int64(1), object(1)\n",
      "memory usage: 59.7+ KB\n"
     ]
    }
   ],
   "source": [
    "visits.info()\n",
    "print()\n",
    "orders.info()\n",
    "print()\n",
    "costs.info()"
   ]
  },
  {
   "cell_type": "markdown",
   "metadata": {},
   "source": [
    "### Предварительные выводы по данным:\n",
    "1. Пропуски на данном этапе не обнаружены;\n",
    "2. Требуется преобразоваание данных в столбцах 'End Ts' и 'Start Ts' в visits, 'Buy Ts' в orders и 'dt' в costs к типу datetime;\n",
    "3. Для удобства работы необходимо провести переименование столбцов в visits и orders: привести к нижнему регистру, заменить пробелы символом '_'.\n",
    "\n",
    "## Обработка данных\n",
    "### Предварительная обработка"
   ]
  },
  {
   "cell_type": "code",
   "execution_count": 6,
   "metadata": {},
   "outputs": [],
   "source": [
    "visits.columns = ['uid','device','end_ts','source_id','start_ts']\n",
    "orders.columns = ['buy_ts','revenue','uid']\n",
    "visits['end_ts'] = pd.to_datetime(\n",
    "    visits['end_ts'],\n",
    "    format='%d.%m.%Y %H:%M'\n",
    ")\n",
    "visits['start_ts'] = pd.to_datetime(\n",
    "    visits['start_ts'],\n",
    "    format='%d.%m.%Y %H:%M'\n",
    ")\n",
    "orders['buy_ts'] = pd.to_datetime(\n",
    "    orders['buy_ts'],\n",
    "    format = '%Y-%m-%d %H:%M:%S'\n",
    ")\n",
    "costs['dt'] = pd.to_datetime(\n",
    "    costs['dt'],\n",
    "    format = '%Y-%m-%d'\n",
    ")"
   ]
  },
  {
   "cell_type": "markdown",
   "metadata": {},
   "source": [
    "### Детальное рассмотрение данных\n",
    "#### Дубликаты"
   ]
  },
  {
   "cell_type": "code",
   "execution_count": 7,
   "metadata": {},
   "outputs": [
    {
     "data": {
      "text/plain": [
       "0"
      ]
     },
     "execution_count": 7,
     "metadata": {},
     "output_type": "execute_result"
    }
   ],
   "source": [
    "visits.duplicated().sum()"
   ]
  },
  {
   "cell_type": "code",
   "execution_count": 8,
   "metadata": {},
   "outputs": [
    {
     "data": {
      "text/plain": [
       "0"
      ]
     },
     "execution_count": 8,
     "metadata": {},
     "output_type": "execute_result"
    }
   ],
   "source": [
    "orders.duplicated().sum()"
   ]
  },
  {
   "cell_type": "code",
   "execution_count": 9,
   "metadata": {},
   "outputs": [
    {
     "data": {
      "text/plain": [
       "0"
      ]
     },
     "execution_count": 9,
     "metadata": {},
     "output_type": "execute_result"
    }
   ],
   "source": [
    "costs.duplicated().sum()"
   ]
  },
  {
   "cell_type": "markdown",
   "metadata": {},
   "source": [
    "Дубликатов нет\n",
    "#### Значения переменных"
   ]
  },
  {
   "cell_type": "code",
   "execution_count": 10,
   "metadata": {},
   "outputs": [
    {
     "data": {
      "text/plain": [
       "desktop    261913\n",
       "touch       96619\n",
       "Name: device, dtype: int64"
      ]
     },
     "execution_count": 10,
     "metadata": {},
     "output_type": "execute_result"
    }
   ],
   "source": [
    "visits['device'].value_counts()"
   ]
  },
  {
   "cell_type": "code",
   "execution_count": 11,
   "metadata": {},
   "outputs": [
    {
     "data": {
      "text/html": [
       "<div>\n",
       "<style scoped>\n",
       "    .dataframe tbody tr th:only-of-type {\n",
       "        vertical-align: middle;\n",
       "    }\n",
       "\n",
       "    .dataframe tbody tr th {\n",
       "        vertical-align: top;\n",
       "    }\n",
       "\n",
       "    .dataframe thead th {\n",
       "        text-align: right;\n",
       "    }\n",
       "</style>\n",
       "<table border=\"1\" class=\"dataframe\">\n",
       "  <thead>\n",
       "    <tr style=\"text-align: right;\">\n",
       "      <th></th>\n",
       "      <th>index</th>\n",
       "      <th>source_id</th>\n",
       "    </tr>\n",
       "  </thead>\n",
       "  <tbody>\n",
       "    <tr>\n",
       "      <th>4</th>\n",
       "      <td>1</td>\n",
       "      <td>33943</td>\n",
       "    </tr>\n",
       "    <tr>\n",
       "      <th>3</th>\n",
       "      <td>2</td>\n",
       "      <td>47473</td>\n",
       "    </tr>\n",
       "    <tr>\n",
       "      <th>1</th>\n",
       "      <td>3</td>\n",
       "      <td>85448</td>\n",
       "    </tr>\n",
       "    <tr>\n",
       "      <th>0</th>\n",
       "      <td>4</td>\n",
       "      <td>101653</td>\n",
       "    </tr>\n",
       "    <tr>\n",
       "      <th>2</th>\n",
       "      <td>5</td>\n",
       "      <td>66711</td>\n",
       "    </tr>\n",
       "    <tr>\n",
       "      <th>8</th>\n",
       "      <td>6</td>\n",
       "      <td>6</td>\n",
       "    </tr>\n",
       "    <tr>\n",
       "      <th>7</th>\n",
       "      <td>7</td>\n",
       "      <td>36</td>\n",
       "    </tr>\n",
       "    <tr>\n",
       "      <th>5</th>\n",
       "      <td>9</td>\n",
       "      <td>13257</td>\n",
       "    </tr>\n",
       "    <tr>\n",
       "      <th>6</th>\n",
       "      <td>10</td>\n",
       "      <td>10005</td>\n",
       "    </tr>\n",
       "  </tbody>\n",
       "</table>\n",
       "</div>"
      ],
      "text/plain": [
       "   index  source_id\n",
       "4      1      33943\n",
       "3      2      47473\n",
       "1      3      85448\n",
       "0      4     101653\n",
       "2      5      66711\n",
       "8      6          6\n",
       "7      7         36\n",
       "5      9      13257\n",
       "6     10      10005"
      ]
     },
     "execution_count": 11,
     "metadata": {},
     "output_type": "execute_result"
    }
   ],
   "source": [
    "visits['source_id'].value_counts().reset_index().sort_values('index')"
   ]
  },
  {
   "cell_type": "markdown",
   "metadata": {},
   "source": [
    "Отсутствует 8 рекламный источник. Либо его нет, либо из него не приходят пользователи. Необходимо уточнить."
   ]
  },
  {
   "cell_type": "code",
   "execution_count": 12,
   "metadata": {},
   "outputs": [
    {
     "data": {
      "text/plain": [
       "count    50415.000000\n",
       "mean         4.999647\n",
       "std         21.818359\n",
       "min          0.000000\n",
       "25%          1.220000\n",
       "50%          2.500000\n",
       "75%          4.890000\n",
       "max       2633.280000\n",
       "Name: revenue, dtype: float64"
      ]
     },
     "execution_count": 12,
     "metadata": {},
     "output_type": "execute_result"
    }
   ],
   "source": [
    "orders['revenue'].describe()"
   ]
  },
  {
   "cell_type": "code",
   "execution_count": 13,
   "metadata": {
    "scrolled": true
   },
   "outputs": [
    {
     "data": {
      "image/png": "[encoded data removed]",
      "text/plain": [
       "<Figure size 1224x360 with 4 Axes>"
      ]
     },
     "metadata": {
      "needs_background": "light"
     },
     "output_type": "display_data"
    }
   ],
   "source": [
    "plt.subplots(figsize=(17,5))\n",
    "plot = orders.query('revenue < 10').hist('revenue', ax=plt.subplot(1,4,1))\n",
    "plt.title('Выручка')\n",
    "plot = orders.query('10 < revenue < 200').hist('revenue', ax=plt.subplot(1,4,2))\n",
    "plt.title('Выручка')\n",
    "plot = orders.query('200 < revenue < 1000').hist('revenue', ax=plt.subplot(1,4,3))\n",
    "plt.title('Выручка')\n",
    "plot = orders.query('revenue > 1000').hist('revenue', ax=plt.subplot(1,4,4))\n",
    "plt.title('Выручка');"
   ]
  },
  {
   "cell_type": "markdown",
   "metadata": {},
   "source": [
    "Кажется, что основную долю выручки составляют небольшие отчисления. Крупных - от 200 рублей - единицы."
   ]
  },
  {
   "cell_type": "code",
   "execution_count": 14,
   "metadata": {},
   "outputs": [
    {
     "data": {
      "image/png": "[encoded data removed]",
      "text/plain": [
       "<Figure size 1224x360 with 2 Axes>"
      ]
     },
     "metadata": {},
     "output_type": "display_data"
    }
   ],
   "source": [
    "orders_cat = orders.copy()\n",
    "def revenue_group(revenue):\n",
    "    if revenue <= 5:\n",
    "        return 'Не более 5 руб.'\n",
    "    elif (revenue > 5) & (revenue <= 30):\n",
    "        return 'от 5 до 30 руб.'\n",
    "    else:\n",
    "        return 'от 30 и более руб.'\n",
    "orders_cat['category'] = orders_cat['revenue'].apply(revenue_group)\n",
    "plt.subplots(figsize=(17,5))\n",
    "plot = orders_cat.pivot_table(\n",
    "    index='category',\n",
    "    values='revenue',\n",
    "    aggfunc='count'\n",
    ").plot(\n",
    "    kind='pie',\n",
    "    autopct='%1.1f%%',\n",
    "    title='Доля отчисления в естественном выражении',\n",
    "    y='revenue',\n",
    "    legend=False,\n",
    "    explode=(0.1, 0.1, 0.1),\n",
    "    shadow=True,\n",
    "    ax = plt.subplot(1,2,1)\n",
    ")\n",
    "plt.ylabel('')\n",
    "plot = orders_cat.pivot_table(\n",
    "    index='category',\n",
    "    values='revenue',\n",
    "    aggfunc='sum'\n",
    ").plot(\n",
    "    kind='pie',\n",
    "    autopct='%1.1f%%',\n",
    "    title='Доля отчисления в денежном выражении',\n",
    "    y='revenue',\n",
    "    legend=False,\n",
    "    explode=(0.1, 0.1, 0.1),\n",
    "    shadow=True,\n",
    "    ax = plt.subplot(1,2,2)\n",
    ")\n",
    "plt.ylabel('');"
   ]
  },
  {
   "cell_type": "markdown",
   "metadata": {},
   "source": [
    "Несмотря на то, что малые отчисления (до 5 руб.) составляют 3/4 от общего количества, в денежном выражении они приносят 1/3 выручки. Почти половину выручки составляют отчисления от 5 до 30 р.\n",
    "Отчисления от 30 рублей и более, составляющие в натуральном выражении менее 1,5 %, в денежном обуславливают почти четверть поступлений."
   ]
  },
  {
   "cell_type": "code",
   "execution_count": 15,
   "metadata": {},
   "outputs": [
    {
     "data": {
      "text/html": [
       "<div>\n",
       "<style scoped>\n",
       "    .dataframe tbody tr th:only-of-type {\n",
       "        vertical-align: middle;\n",
       "    }\n",
       "\n",
       "    .dataframe tbody tr th {\n",
       "        vertical-align: top;\n",
       "    }\n",
       "\n",
       "    .dataframe thead th {\n",
       "        text-align: right;\n",
       "    }\n",
       "</style>\n",
       "<table border=\"1\" class=\"dataframe\">\n",
       "  <thead>\n",
       "    <tr style=\"text-align: right;\">\n",
       "      <th></th>\n",
       "      <th>index</th>\n",
       "      <th>source_id</th>\n",
       "    </tr>\n",
       "  </thead>\n",
       "  <tbody>\n",
       "    <tr>\n",
       "      <th>3</th>\n",
       "      <td>1</td>\n",
       "      <td>363</td>\n",
       "    </tr>\n",
       "    <tr>\n",
       "      <th>6</th>\n",
       "      <td>2</td>\n",
       "      <td>363</td>\n",
       "    </tr>\n",
       "    <tr>\n",
       "      <th>2</th>\n",
       "      <td>3</td>\n",
       "      <td>363</td>\n",
       "    </tr>\n",
       "    <tr>\n",
       "      <th>5</th>\n",
       "      <td>4</td>\n",
       "      <td>363</td>\n",
       "    </tr>\n",
       "    <tr>\n",
       "      <th>0</th>\n",
       "      <td>5</td>\n",
       "      <td>364</td>\n",
       "    </tr>\n",
       "    <tr>\n",
       "      <th>1</th>\n",
       "      <td>9</td>\n",
       "      <td>363</td>\n",
       "    </tr>\n",
       "    <tr>\n",
       "      <th>4</th>\n",
       "      <td>10</td>\n",
       "      <td>363</td>\n",
       "    </tr>\n",
       "  </tbody>\n",
       "</table>\n",
       "</div>"
      ],
      "text/plain": [
       "   index  source_id\n",
       "3      1        363\n",
       "6      2        363\n",
       "2      3        363\n",
       "5      4        363\n",
       "0      5        364\n",
       "1      9        363\n",
       "4     10        363"
      ]
     },
     "execution_count": 15,
     "metadata": {},
     "output_type": "execute_result"
    }
   ],
   "source": [
    "costs['source_id'].value_counts().reset_index().sort_values('index')"
   ]
  },
  {
   "cell_type": "markdown",
   "metadata": {},
   "source": [
    "Несмотря на то, что 6 и 7 рекламный источник не финансировались, пользователи из них приходят."
   ]
  },
  {
   "cell_type": "code",
   "execution_count": 16,
   "metadata": {},
   "outputs": [
    {
     "data": {
      "text/plain": [
       "count    2542.000000\n",
       "mean      129.477427\n",
       "std       156.296628\n",
       "min         0.540000\n",
       "25%        21.945000\n",
       "50%        77.295000\n",
       "75%       170.065000\n",
       "max      1788.280000\n",
       "Name: costs, dtype: float64"
      ]
     },
     "execution_count": 16,
     "metadata": {},
     "output_type": "execute_result"
    }
   ],
   "source": [
    "costs['costs'].describe()"
   ]
  },
  {
   "cell_type": "code",
   "execution_count": 17,
   "metadata": {},
   "outputs": [
    {
     "data": {
      "image/png": "[encoded data removed]",
      "text/plain": [
       "<Figure size 1224x360 with 3 Axes>"
      ]
     },
     "metadata": {
      "needs_background": "light"
     },
     "output_type": "display_data"
    }
   ],
   "source": [
    "plt.subplots(figsize=(17,5))\n",
    "plot = costs.query('costs < 200').hist('costs', ax=plt.subplot(1,3,1))\n",
    "plt.title('Затраты в день')\n",
    "plot = costs.query('200 < costs < 1000').hist('costs', ax=plt.subplot(1,3,2))\n",
    "plt.title('Затраты в день')\n",
    "plot = costs.query('costs > 1000').hist('costs', ax=plt.subplot(1,3,3))\n",
    "plt.title('Затраты в день');"
   ]
  },
  {
   "cell_type": "markdown",
   "metadata": {},
   "source": [
    "Очень редко затраты составляют более 1 000 рублей."
   ]
  },
  {
   "cell_type": "code",
   "execution_count": 18,
   "metadata": {
    "scrolled": true
   },
   "outputs": [
    {
     "data": {
      "image/png": "[encoded data removed]",
      "text/plain": [
       "<Figure size 504x504 with 1 Axes>"
      ]
     },
     "metadata": {},
     "output_type": "display_data"
    }
   ],
   "source": [
    "costs.pivot_table(\n",
    "    index='source_id',\n",
    "    values='costs',\n",
    "    aggfunc='sum'\n",
    ").plot(\n",
    "    kind='pie',\n",
    "    autopct='%1.1f%%',\n",
    "    figsize=(7,7),\n",
    "    title='Доля затрат на рекламный источник в маркетинговом бюджете',\n",
    "    y='costs',\n",
    "    legend=False,\n",
    "    explode=(0.1, 0.1, 0.1, 0.1, 0.1, 0.1, 0.1),\n",
    "    shadow=True,\n",
    ")\n",
    "plt.ylabel('');"
   ]
  },
  {
   "cell_type": "markdown",
   "metadata": {},
   "source": [
    "### Выводы\n",
    "Данные, содержащие временную метку (дату) преобразованы к типу datetime.\n",
    "Переименованы названия столбцов.\n",
    "При детальном рассмотрении данных не обнаружено каких-либо проблем.\n",
    "Данные корректны.\n",
    "\n",
    "Следует уточнить, существует ли 8 рекламный источник и в целом их количество и типы. \n",
    "## Отчеты и метрики\n",
    "### Пользовательские метрики\n",
    "#### Количество уникальных пользователей"
   ]
  },
  {
   "cell_type": "code",
   "execution_count": 19,
   "metadata": {},
   "outputs": [],
   "source": [
    "visits['session_year'] = visits['start_ts'].dt.year\n",
    "visits['session_month'] = visits['start_ts'].dt.month\n",
    "visits['session_week'] = visits['start_ts'].dt.week\n",
    "visits['session_date'] = visits['start_ts'].dt.date\n",
    "dau_total = visits.groupby('session_date').agg({'uid':'nunique'}).mean()\n",
    "wau_total = visits.groupby(['session_year','session_week']).agg({'uid':'nunique'}).mean()\n",
    "mau_total = visits.groupby(['session_year','session_month']).agg({'uid':'nunique'}).mean()\n",
    "sticky_factor_wau = dau_total / wau_total * 100\n",
    "sticky_factor_mau = dau_total / mau_total * 100"
   ]
  },
  {
   "cell_type": "code",
   "execution_count": 20,
   "metadata": {},
   "outputs": [
    {
     "name": "stdout",
     "output_type": "stream",
     "text": [
      "Кол-во уникальных пользователей в день: 907\n",
      "\n",
      "Кол-во уникальных пользователей в неделю: 5716\n",
      "\n",
      "Кол-во уникальных пользователей в месяц: 23228\n",
      "\n",
      "Sticky factor (недельный): 15 %\n",
      "\n",
      "Sticky factor (месячный): 3 %\n"
     ]
    }
   ],
   "source": [
    "print('Кол-во уникальных пользователей в день:',int(dau_total))\n",
    "print()\n",
    "print('Кол-во уникальных пользователей в неделю:',int(wau_total))\n",
    "print()\n",
    "print('Кол-во уникальных пользователей в месяц:',int(mau_total))\n",
    "print()\n",
    "print('Sticky factor (недельный):', int(sticky_factor_wau),'%')\n",
    "print()\n",
    "print('Sticky factor (месячный):', int(sticky_factor_mau),'%')"
   ]
  },
  {
   "cell_type": "markdown",
   "metadata": {},
   "source": [
    "#### Информация о пользовательских сессиях\n",
    "\n",
    "<font><b><em>Количество сессий в день</em></b></font>\n",
    "\n",
    "Группировка сессий по значению 'session_date', применение функций 'count' и 'nunique' по значению 'uid'"
   ]
  },
  {
   "cell_type": "code",
   "execution_count": 21,
   "metadata": {
    "scrolled": true
   },
   "outputs": [
    {
     "data": {
      "image/png": "[encoded data removed]",
      "text/plain": [
       "<Figure size 1224x360 with 3 Axes>"
      ]
     },
     "metadata": {
      "needs_background": "light"
     },
     "output_type": "display_data"
    }
   ],
   "source": [
    "session_count = visits.groupby('session_date').agg({'uid':['count','nunique']})\n",
    "session_count.columns = ('sess_number','users_number')\n",
    "session_count['session_per_user'] = (session_count['sess_number'] / session_count['users_number']).round(2)\n",
    "plt.subplots(figsize=(17,5))\n",
    "plot = session_count.hist(\n",
    "    'sess_number',\n",
    "    ax = plt.subplot(1,3,1),\n",
    ")\n",
    "plt.title('Распределение количества сессий')\n",
    "plot = session_count.hist(\n",
    "    'users_number',\n",
    "    ax = plt.subplot(1,3,2)\n",
    ")\n",
    "plt.title('Распределение кол-ва уникальных посетителей')\n",
    "plot = session_count.boxplot(\n",
    "    'session_per_user',\n",
    "    ax = plt.subplot(1,3,3)\n",
    ")\n",
    "plt.title('Размах кол-ва сессий на пользователя в день');"
   ]
  },
  {
   "cell_type": "markdown",
   "metadata": {},
   "source": [
    "Распределение количества сессий в день и уникальных посетителей за день схожее, а размах удельного количества сессий на пользователя невелик и находится в окрестности 1. Это говорит о том, что на одного уникального пользователя приходится одна сессия. \n",
    "\n",
    "По внешнему виду гистограммы сложно определить характер распределения. С помощью normaltest оценивается нормальность распределения. Значение alpha = 0,05 \n",
    "\n",
    "Ho - распределение дневного числа сессий - нормальное, H1 - иное. "
   ]
  },
  {
   "cell_type": "code",
   "execution_count": 22,
   "metadata": {},
   "outputs": [
    {
     "name": "stdout",
     "output_type": "stream",
     "text": [
      "Нулевая гипотеза может быть отвергнута\n"
     ]
    }
   ],
   "source": [
    "alpha = .05\n",
    "result_session = st.normaltest(\n",
    "    session_count['sess_number']    \n",
    ")\n",
    "if result_session.pvalue < alpha:\n",
    "    print('Нулевая гипотеза может быть отвергнута')\n",
    "else:\n",
    "    print('Нулевая гипотеза не может быть отвергнута')"
   ]
  },
  {
   "cell_type": "markdown",
   "metadata": {},
   "source": [
    "~~Количество сессий в день может быть оценено с помощью атрибута .mode()~~\n",
    "\n",
    "Большинство значений все же сконцентрировано около 1 000 сессий в день, поэтому данные можно усреднить "
   ]
  },
  {
   "cell_type": "code",
   "execution_count": 23,
   "metadata": {},
   "outputs": [],
   "source": [
    "#print('Среднее количество сессий в день:', session_count['sess_number'].mode()) \n",
    "#на выходе - три значения. Выбрал то, что совпало с результатом вызова функции scipy.stats.mode()\n",
    "# способ неинформативный"
   ]
  },
  {
   "cell_type": "code",
   "execution_count": 24,
   "metadata": {},
   "outputs": [
    {
     "name": "stdout",
     "output_type": "stream",
     "text": [
      "Среднее количество сессий в день: 984\n"
     ]
    }
   ],
   "source": [
    "print('Среднее количество сессий в день:', int(session_count['sess_number'].mean()))"
   ]
  },
  {
   "cell_type": "markdown",
   "metadata": {},
   "source": [
    "<font><b><em>Продолжительность сессии</em></b></font>"
   ]
  },
  {
   "cell_type": "code",
   "execution_count": 25,
   "metadata": {},
   "outputs": [
    {
     "data": {
      "image/png": "[encoded data removed]",
      "text/plain": [
       "<Figure size 1224x360 with 2 Axes>"
      ]
     },
     "metadata": {
      "needs_background": "light"
     },
     "output_type": "display_data"
    }
   ],
   "source": [
    "visits['sess_duration'] = (visits['end_ts'] - visits['start_ts']).dt.seconds\n",
    "plt.subplots(figsize=(17,5))\n",
    "plot = visits.boxplot(\n",
    "    'sess_duration',\n",
    "    ax = plt.subplot(1,2,1)\n",
    ")\n",
    "plt.title('Размах значений длительности сессии')\n",
    "plt.ylim(0,2500)\n",
    "plot = visits.hist(\n",
    "    'sess_duration',\n",
    "    ax = plt.subplot(1,2,2),\n",
    "    range=(0,2500)\n",
    ")\n",
    "plt.title('Распределение значений длительности сессии');"
   ]
  },
  {
   "cell_type": "code",
   "execution_count": 26,
   "metadata": {},
   "outputs": [
    {
     "name": "stdout",
     "output_type": "stream",
     "text": [
      "Доля сессий с длительностью до 2 500 секунд от общего числа сессий: 95.8%\n"
     ]
    }
   ],
   "source": [
    "sess_ratio = visits.query('sess_duration < 2500')['sess_duration'].count() / visits['sess_duration'].count()\n",
    "print ('Доля сессий с длительностью до 2 500 секунд от общего числа сессий: {:.1%}'.format(sess_ratio)) "
   ]
  },
  {
   "cell_type": "code",
   "execution_count": 27,
   "metadata": {},
   "outputs": [
    {
     "data": {
      "text/plain": [
       "240.0"
      ]
     },
     "execution_count": 27,
     "metadata": {},
     "output_type": "execute_result"
    }
   ],
   "source": [
    "visits.query('sess_duration < 2500')['sess_duration'].median()"
   ]
  },
  {
   "cell_type": "code",
   "execution_count": 28,
   "metadata": {},
   "outputs": [
    {
     "data": {
      "text/plain": [
       "60"
      ]
     },
     "execution_count": 28,
     "metadata": {},
     "output_type": "execute_result"
    }
   ],
   "source": [
    "visits['sess_duration'].mode()[0]"
   ]
  },
  {
   "cell_type": "markdown",
   "metadata": {},
   "source": [
    "<font><b><em>Retention Rate</em></b><font>\n",
    "\n",
    "В распоряжении годовой объем данных, поэтому когорты будут сформированы по месяцам"
   ]
  },
  {
   "cell_type": "code",
   "execution_count": 29,
   "metadata": {},
   "outputs": [],
   "source": [
    "first_activity_date = visits.groupby('uid')['start_ts'].min()\n",
    "first_activity_date.name = 'first_activity_date'\n",
    "visits = visits.join(first_activity_date, on='uid')\n",
    "visits['first_session_month'] = visits['first_activity_date'].astype('datetime64[M]')"
   ]
  },
  {
   "cell_type": "code",
   "execution_count": 30,
   "metadata": {},
   "outputs": [],
   "source": [
    "visits['cohort_lftm'] = (visits['start_ts'] - visits['first_activity_date'])/ np.timedelta64(1,'M')\n",
    "visits['cohort_lftm'] = visits['cohort_lftm'].round().astype('int')\n",
    "cohorts = visits.groupby(['first_session_month','cohort_lftm']).agg({'uid':'nunique'}).reset_index()\n",
    "initial_users_count = cohorts[cohorts['cohort_lftm'] == 0][['first_session_month','uid']]\n",
    "initial_users_count = initial_users_count.rename(columns={'uid':'n_cohort_users'})\n",
    "cohorts = cohorts.merge(initial_users_count, on='first_session_month')\n",
    "cohorts['retention'] = cohorts['uid'] / cohorts['n_cohort_users'] \n",
    "cohorts['first_session_month'] = cohorts['first_session_month'].dt.strftime('%Y-%m')"
   ]
  },
  {
   "cell_type": "code",
   "execution_count": 31,
   "metadata": {},
   "outputs": [
    {
     "data": {
      "image/png": "[encoded data removed]",
      "text/plain": [
       "<Figure size 1080x504 with 2 Axes>"
      ]
     },
     "metadata": {
      "needs_background": "light"
     },
     "output_type": "display_data"
    }
   ],
   "source": [
    "retention_pivot = cohorts.pivot_table(\n",
    "    index = 'first_session_month',\n",
    "    columns = 'cohort_lftm',\n",
    "    values = 'retention',\n",
    "    aggfunc = 'sum'\n",
    ")\n",
    "plt.figure(figsize=(15,7))\n",
    "plt.title('Доля возвращающихся пользователей')\n",
    "sns.heatmap(\n",
    "    retention_pivot,\n",
    "    annot = True,\n",
    "    fmt = '.1%',\n",
    "    linewidths=1,\n",
    "    linecolor='black'\n",
    ")\n",
    "plt.xlabel('Возраст')\n",
    "plt.ylabel('Когорта');"
   ]
  },
  {
   "cell_type": "markdown",
   "metadata": {},
   "source": [
    "#### Выводы\n",
    "\n",
    "Среднее дневное количество уникальных пользователей за рассматриваемый период - порядка 900 человек, недельное - чуть более 5500 человек, месячное - почти 23,5 тыс.человек. Недельный Sticky-фактор составляет 15 %, месячный - 3 %, т.е регулярность использования низкая.\n",
    "\n",
    "В средним в день совершается около 1 000 сессий. Медианная продолжительность сессии при этом - 4 минуты, а сессии за очень редким исключением длятся более 40 минут - таких менее 5 %.\n",
    "\n",
    "Коэффициент удержания пользователей низкий, при этом наблюдается тенденция падения показателя с течением времени. Так, в когорте 2018-05 уже на первый месяц количество возвращающихся пользователей составляет всего 0,7 %, хотя для когорты 2017-06 подобных пользователей было 7,4 %. Быстрее стал сокращаться с возрастом коэффициент удержания у более молодых когорт. \n",
    "\n",
    "### Продажи\n",
    "#### Средний чек"
   ]
  },
  {
   "cell_type": "code",
   "execution_count": 32,
   "metadata": {},
   "outputs": [],
   "source": [
    "first_order_date = orders.groupby('uid')['buy_ts'].min().reset_index()\n",
    "first_order_date.columns = ['uid','first_order_date']\n",
    "orders_check = pd.merge(orders,first_order_date, on='uid')"
   ]
  },
  {
   "cell_type": "code",
   "execution_count": 33,
   "metadata": {
    "scrolled": true
   },
   "outputs": [
    {
     "data": {
      "image/png": "[encoded data removed]",
      "text/plain": [
       "<Figure size 1080x504 with 2 Axes>"
      ]
     },
     "metadata": {
      "needs_background": "light"
     },
     "output_type": "display_data"
    }
   ],
   "source": [
    "orders_check['first_order_month'] = orders_check['first_order_date'].astype('datetime64[M]')\n",
    "orders_check['order_month'] = orders_check['buy_ts'].astype('datetime64[M]')\n",
    "orders_group_by_cohorts = orders_check.groupby(\n",
    "    ['first_order_month','order_month']).agg({'uid':'nunique','revenue':'sum'}).reset_index()\n",
    "orders_group_by_cohorts['revenue_per_user'] = orders_group_by_cohorts['revenue'] / orders_group_by_cohorts['uid']\n",
    "orders_group_by_cohorts['cohort_lifetime'] = (\n",
    "    (orders_group_by_cohorts['order_month'] - \n",
    "    orders_group_by_cohorts['first_order_month'])/np.timedelta64(1,'M')\n",
    ").round().astype('int')\n",
    "orders_group_by_cohorts['first_order_month'] = orders_group_by_cohorts['first_order_month'].dt.strftime('%Y-%m')\n",
    "orders_pivot_revenue = orders_group_by_cohorts.pivot_table(\n",
    "    index = 'first_order_month',\n",
    "    columns = 'cohort_lifetime',\n",
    "    values = 'revenue_per_user',\n",
    "    aggfunc = 'mean'\n",
    ")\n",
    "plt.figure(figsize=(15,7))\n",
    "plt.title('Средний чек')\n",
    "sns.heatmap(\n",
    "    orders_pivot_revenue,\n",
    "    annot = True,\n",
    "    fmt='.1f',\n",
    "    linewidths = 1,\n",
    "    linecolor = 'black'\n",
    ")\n",
    "plt.xlabel('Возраст')\n",
    "plt.ylabel('Когорта');"
   ]
  },
  {
   "cell_type": "markdown",
   "metadata": {},
   "source": [
    "Средний чек внутри когорт имеет тенденцию к росту в сравнении с начальным значением. Связано это, в том числе, со снижением количества активных покупателей внутри когорты, что было показано ранее при рассмотрении коэффициента удержания пользователей. Можно заключить, что те клиенты, что продолжают использовать сервис являются более платежеспособными, нежели средний пользователь.\n",
    "\n",
    "Какой-то однозначной закономерности между номером когорты и средним чеком нет. Выделяются отдельные когороты - 2017-06, 2017-09 (самое высокок значение среднего чека приходится на декабрь 2018 года, очевидно, это связано с приближением нового года), 2017-12.\n",
    "\n",
    "#### Количество покупок"
   ]
  },
  {
   "cell_type": "code",
   "execution_count": 34,
   "metadata": {},
   "outputs": [
    {
     "name": "stdout",
     "output_type": "stream",
     "text": [
      "Количество покупок в когортах по месяцам\n"
     ]
    },
    {
     "data": {
      "text/html": [
       "<div>\n",
       "<style scoped>\n",
       "    .dataframe tbody tr th:only-of-type {\n",
       "        vertical-align: middle;\n",
       "    }\n",
       "\n",
       "    .dataframe tbody tr th {\n",
       "        vertical-align: top;\n",
       "    }\n",
       "\n",
       "    .dataframe thead th {\n",
       "        text-align: right;\n",
       "    }\n",
       "</style>\n",
       "<table border=\"1\" class=\"dataframe\">\n",
       "  <thead>\n",
       "    <tr style=\"text-align: right;\">\n",
       "      <th>Возраст когорты, мес</th>\n",
       "      <th>0</th>\n",
       "      <th>1</th>\n",
       "      <th>2</th>\n",
       "      <th>3</th>\n",
       "      <th>4</th>\n",
       "      <th>5</th>\n",
       "      <th>6</th>\n",
       "      <th>7</th>\n",
       "      <th>8</th>\n",
       "      <th>9</th>\n",
       "      <th>10</th>\n",
       "      <th>11</th>\n",
       "    </tr>\n",
       "    <tr>\n",
       "      <th>Когорта</th>\n",
       "      <th></th>\n",
       "      <th></th>\n",
       "      <th></th>\n",
       "      <th></th>\n",
       "      <th></th>\n",
       "      <th></th>\n",
       "      <th></th>\n",
       "      <th></th>\n",
       "      <th></th>\n",
       "      <th></th>\n",
       "      <th></th>\n",
       "      <th></th>\n",
       "    </tr>\n",
       "  </thead>\n",
       "  <tbody>\n",
       "    <tr>\n",
       "      <th>2017-06</th>\n",
       "      <td>2354.0</td>\n",
       "      <td>177</td>\n",
       "      <td>174</td>\n",
       "      <td>226</td>\n",
       "      <td>292</td>\n",
       "      <td>218</td>\n",
       "      <td>276</td>\n",
       "      <td>174</td>\n",
       "      <td>212</td>\n",
       "      <td>153</td>\n",
       "      <td>96</td>\n",
       "      <td>86</td>\n",
       "    </tr>\n",
       "    <tr>\n",
       "      <th>2017-07</th>\n",
       "      <td>2186.0</td>\n",
       "      <td>100</td>\n",
       "      <td>120</td>\n",
       "      <td>104</td>\n",
       "      <td>72</td>\n",
       "      <td>82</td>\n",
       "      <td>61</td>\n",
       "      <td>50</td>\n",
       "      <td>58</td>\n",
       "      <td>24</td>\n",
       "      <td>53</td>\n",
       "      <td></td>\n",
       "    </tr>\n",
       "    <tr>\n",
       "      <th>2017-08</th>\n",
       "      <td>1533.0</td>\n",
       "      <td>108</td>\n",
       "      <td>100</td>\n",
       "      <td>81</td>\n",
       "      <td>85</td>\n",
       "      <td>62</td>\n",
       "      <td>49</td>\n",
       "      <td>78</td>\n",
       "      <td>46</td>\n",
       "      <td>46</td>\n",
       "      <td></td>\n",
       "      <td></td>\n",
       "    </tr>\n",
       "    <tr>\n",
       "      <th>2017-09</th>\n",
       "      <td>2933.0</td>\n",
       "      <td>219</td>\n",
       "      <td>161</td>\n",
       "      <td>164</td>\n",
       "      <td>67</td>\n",
       "      <td>109</td>\n",
       "      <td>108</td>\n",
       "      <td>56</td>\n",
       "      <td>61</td>\n",
       "      <td></td>\n",
       "      <td></td>\n",
       "      <td></td>\n",
       "    </tr>\n",
       "    <tr>\n",
       "      <th>2017-10</th>\n",
       "      <td>4964.0</td>\n",
       "      <td>314</td>\n",
       "      <td>162</td>\n",
       "      <td>122</td>\n",
       "      <td>129</td>\n",
       "      <td>103</td>\n",
       "      <td>86</td>\n",
       "      <td>125</td>\n",
       "      <td></td>\n",
       "      <td></td>\n",
       "      <td></td>\n",
       "      <td></td>\n",
       "    </tr>\n",
       "    <tr>\n",
       "      <th>2017-11</th>\n",
       "      <td>4813.0</td>\n",
       "      <td>397</td>\n",
       "      <td>182</td>\n",
       "      <td>211</td>\n",
       "      <td>136</td>\n",
       "      <td>59</td>\n",
       "      <td>102</td>\n",
       "      <td></td>\n",
       "      <td></td>\n",
       "      <td></td>\n",
       "      <td></td>\n",
       "      <td></td>\n",
       "    </tr>\n",
       "    <tr>\n",
       "      <th>2017-12</th>\n",
       "      <td>5052.0</td>\n",
       "      <td>270</td>\n",
       "      <td>202</td>\n",
       "      <td>179</td>\n",
       "      <td>86</td>\n",
       "      <td>105</td>\n",
       "      <td></td>\n",
       "      <td></td>\n",
       "      <td></td>\n",
       "      <td></td>\n",
       "      <td></td>\n",
       "      <td></td>\n",
       "    </tr>\n",
       "    <tr>\n",
       "      <th>2018-01</th>\n",
       "      <td>3783.0</td>\n",
       "      <td>224</td>\n",
       "      <td>159</td>\n",
       "      <td>64</td>\n",
       "      <td>78</td>\n",
       "      <td></td>\n",
       "      <td></td>\n",
       "      <td></td>\n",
       "      <td></td>\n",
       "      <td></td>\n",
       "      <td></td>\n",
       "      <td></td>\n",
       "    </tr>\n",
       "    <tr>\n",
       "      <th>2018-02</th>\n",
       "      <td>4095.0</td>\n",
       "      <td>222</td>\n",
       "      <td>83</td>\n",
       "      <td>70</td>\n",
       "      <td></td>\n",
       "      <td></td>\n",
       "      <td></td>\n",
       "      <td></td>\n",
       "      <td></td>\n",
       "      <td></td>\n",
       "      <td></td>\n",
       "      <td></td>\n",
       "    </tr>\n",
       "    <tr>\n",
       "      <th>2018-03</th>\n",
       "      <td>4130.0</td>\n",
       "      <td>178</td>\n",
       "      <td>176</td>\n",
       "      <td></td>\n",
       "      <td></td>\n",
       "      <td></td>\n",
       "      <td></td>\n",
       "      <td></td>\n",
       "      <td></td>\n",
       "      <td></td>\n",
       "      <td></td>\n",
       "      <td></td>\n",
       "    </tr>\n",
       "    <tr>\n",
       "      <th>2018-04</th>\n",
       "      <td>2495.0</td>\n",
       "      <td>195</td>\n",
       "      <td></td>\n",
       "      <td></td>\n",
       "      <td></td>\n",
       "      <td></td>\n",
       "      <td></td>\n",
       "      <td></td>\n",
       "      <td></td>\n",
       "      <td></td>\n",
       "      <td></td>\n",
       "      <td></td>\n",
       "    </tr>\n",
       "    <tr>\n",
       "      <th>2018-05</th>\n",
       "      <td>3249.0</td>\n",
       "      <td></td>\n",
       "      <td></td>\n",
       "      <td></td>\n",
       "      <td></td>\n",
       "      <td></td>\n",
       "      <td></td>\n",
       "      <td></td>\n",
       "      <td></td>\n",
       "      <td></td>\n",
       "      <td></td>\n",
       "      <td></td>\n",
       "    </tr>\n",
       "    <tr>\n",
       "      <th>2018-06</th>\n",
       "      <td>1.0</td>\n",
       "      <td></td>\n",
       "      <td></td>\n",
       "      <td></td>\n",
       "      <td></td>\n",
       "      <td></td>\n",
       "      <td></td>\n",
       "      <td></td>\n",
       "      <td></td>\n",
       "      <td></td>\n",
       "      <td></td>\n",
       "      <td></td>\n",
       "    </tr>\n",
       "  </tbody>\n",
       "</table>\n",
       "</div>"
      ],
      "text/plain": [
       "Возраст когорты, мес      0    1    2    3    4    5    6    7    8    9   10  \\\n",
       "Когорта                                                                         \n",
       "2017-06               2354.0  177  174  226  292  218  276  174  212  153  96   \n",
       "2017-07               2186.0  100  120  104   72   82   61   50   58   24  53   \n",
       "2017-08               1533.0  108  100   81   85   62   49   78   46   46       \n",
       "2017-09               2933.0  219  161  164   67  109  108   56   61            \n",
       "2017-10               4964.0  314  162  122  129  103   86  125                 \n",
       "2017-11               4813.0  397  182  211  136   59  102                      \n",
       "2017-12               5052.0  270  202  179   86  105                           \n",
       "2018-01               3783.0  224  159   64   78                                \n",
       "2018-02               4095.0  222   83   70                                     \n",
       "2018-03               4130.0  178  176                                          \n",
       "2018-04               2495.0  195                                               \n",
       "2018-05               3249.0                                                    \n",
       "2018-06                  1.0                                                    \n",
       "\n",
       "Возраст когорты, мес  11  \n",
       "Когорта                   \n",
       "2017-06               86  \n",
       "2017-07                   \n",
       "2017-08                   \n",
       "2017-09                   \n",
       "2017-10                   \n",
       "2017-11                   \n",
       "2017-12                   \n",
       "2018-01                   \n",
       "2018-02                   \n",
       "2018-03                   \n",
       "2018-04                   \n",
       "2018-05                   \n",
       "2018-06                   "
      ]
     },
     "execution_count": 34,
     "metadata": {},
     "output_type": "execute_result"
    }
   ],
   "source": [
    "orders_grouped_by_cohort_II = orders_check.groupby(\n",
    "    ['first_order_month','order_month']).agg({'uid':'count'}).reset_index()\n",
    "orders_grouped_by_cohort_II['cohort_lifetime'] = (\n",
    "    (orders_grouped_by_cohort_II['order_month'] - \n",
    "     orders_grouped_by_cohort_II['first_order_month'])/np.timedelta64(1,'M')\n",
    ").round().astype('int')\n",
    "orders_grouped_by_cohort_II['first_order_month'] = orders_grouped_by_cohort_II['first_order_month'].dt.strftime('%Y-%m')\n",
    "orders_number_pivot = orders_grouped_by_cohort_II.pivot_table(\n",
    "    index = 'first_order_month',\n",
    "    columns = 'cohort_lifetime',\n",
    "    values = 'uid',\n",
    "    aggfunc = 'mean'\n",
    ")\n",
    "orders_number_pivot.columns.name = 'Возраст когорты, мес'\n",
    "orders_number_pivot.index.name = 'Когорта'\n",
    "orders_number_pivot = orders_number_pivot.fillna('')\n",
    "print('Количество покупок в когортах по месяцам')\n",
    "orders_number_pivot"
   ]
  },
  {
   "cell_type": "markdown",
   "metadata": {},
   "source": [
    "В отчете о количестве покупок наблюдается подобная закономерность, что и в отчете о коэф.удержания посетителей. Выделяется первая когорта - месячное количество покупок сохраняется примерно на одном уровне достаточно дилтельное время. Между когортами наблюдается сначала увеличение количества покупок, а затем его снижение, так, наиболее покупающими оказались когорты 2017-10, 2017-11, 2017-12, причем не только в первый месяц, но и в последующие.   \n",
    "\n",
    "#### LTV"
   ]
  },
  {
   "cell_type": "code",
   "execution_count": 35,
   "metadata": {},
   "outputs": [],
   "source": [
    "orders['order_month'] = orders['buy_ts'].astype('datetime64[M]') \n",
    "first_orders = orders.groupby('uid').agg({'order_month':'min'}).reset_index()\n",
    "first_orders.columns = ['uid','first_order_month']"
   ]
  },
  {
   "cell_type": "code",
   "execution_count": 36,
   "metadata": {},
   "outputs": [],
   "source": [
    "cohorts_size = first_orders.groupby('first_order_month').agg({'uid':'nunique'}).reset_index()\n",
    "cohorts_size.columns = ['first_order_month','n_users']"
   ]
  },
  {
   "cell_type": "code",
   "execution_count": 37,
   "metadata": {},
   "outputs": [],
   "source": [
    "orders_ltv = pd.merge(orders, first_orders, on='uid')\n",
    "cohorts = orders_ltv.groupby(['first_order_month','order_month']).agg({'revenue':'sum'}).reset_index()"
   ]
  },
  {
   "cell_type": "code",
   "execution_count": 38,
   "metadata": {},
   "outputs": [],
   "source": [
    "report = pd.merge(cohorts_size, cohorts, on='first_order_month')\n",
    "report['age'] = (report['order_month'] - report['first_order_month'])/np.timedelta64(1,'M')\n",
    "report['age'] = report['age'].round().astype('int')\n",
    "report['ltv'] = report['revenue'] / report['n_users']"
   ]
  },
  {
   "cell_type": "code",
   "execution_count": 39,
   "metadata": {},
   "outputs": [],
   "source": [
    "output = report.pivot_table(\n",
    "    index = 'first_order_month',\n",
    "    columns = 'age',\n",
    "    values = 'ltv',\n",
    "    aggfunc = 'mean'\n",
    ").round(2)\n",
    "output.columns.name = 'Возраст'\n",
    "output.index.name = 'Когорта'\n",
    "output = output.fillna('')"
   ]
  },
  {
   "cell_type": "code",
   "execution_count": 40,
   "metadata": {},
   "outputs": [
    {
     "name": "stdout",
     "output_type": "stream",
     "text": [
      "Ценность клиента в зависимости от возраста\n"
     ]
    },
    {
     "data": {
      "text/html": [
       "<div>\n",
       "<style scoped>\n",
       "    .dataframe tbody tr th:only-of-type {\n",
       "        vertical-align: middle;\n",
       "    }\n",
       "\n",
       "    .dataframe tbody tr th {\n",
       "        vertical-align: top;\n",
       "    }\n",
       "\n",
       "    .dataframe thead th {\n",
       "        text-align: right;\n",
       "    }\n",
       "</style>\n",
       "<table border=\"1\" class=\"dataframe\">\n",
       "  <thead>\n",
       "    <tr style=\"text-align: right;\">\n",
       "      <th>Возраст</th>\n",
       "      <th>0</th>\n",
       "      <th>1</th>\n",
       "      <th>2</th>\n",
       "      <th>3</th>\n",
       "      <th>4</th>\n",
       "      <th>5</th>\n",
       "      <th>6</th>\n",
       "      <th>7</th>\n",
       "      <th>8</th>\n",
       "      <th>9</th>\n",
       "      <th>10</th>\n",
       "      <th>11</th>\n",
       "    </tr>\n",
       "    <tr>\n",
       "      <th>Когорта</th>\n",
       "      <th></th>\n",
       "      <th></th>\n",
       "      <th></th>\n",
       "      <th></th>\n",
       "      <th></th>\n",
       "      <th></th>\n",
       "      <th></th>\n",
       "      <th></th>\n",
       "      <th></th>\n",
       "      <th></th>\n",
       "      <th></th>\n",
       "      <th></th>\n",
       "    </tr>\n",
       "  </thead>\n",
       "  <tbody>\n",
       "    <tr>\n",
       "      <th>2017-06-01</th>\n",
       "      <td>4.72</td>\n",
       "      <td>0.49</td>\n",
       "      <td>0.44</td>\n",
       "      <td>0.95</td>\n",
       "      <td>1.02</td>\n",
       "      <td>0.74</td>\n",
       "      <td>0.95</td>\n",
       "      <td>0.58</td>\n",
       "      <td>0.55</td>\n",
       "      <td>0.61</td>\n",
       "      <td>0.57</td>\n",
       "      <td>0.26</td>\n",
       "    </tr>\n",
       "    <tr>\n",
       "      <th>2017-07-01</th>\n",
       "      <td>6.01</td>\n",
       "      <td>0.34</td>\n",
       "      <td>0.62</td>\n",
       "      <td>0.36</td>\n",
       "      <td>0.18</td>\n",
       "      <td>0.16</td>\n",
       "      <td>0.12</td>\n",
       "      <td>0.14</td>\n",
       "      <td>0.16</td>\n",
       "      <td>0.15</td>\n",
       "      <td>0.16</td>\n",
       "      <td></td>\n",
       "    </tr>\n",
       "    <tr>\n",
       "      <th>2017-08-01</th>\n",
       "      <td>5.28</td>\n",
       "      <td>0.47</td>\n",
       "      <td>0.46</td>\n",
       "      <td>0.39</td>\n",
       "      <td>0.49</td>\n",
       "      <td>0.28</td>\n",
       "      <td>0.21</td>\n",
       "      <td>0.41</td>\n",
       "      <td>0.29</td>\n",
       "      <td>0.19</td>\n",
       "      <td></td>\n",
       "      <td></td>\n",
       "    </tr>\n",
       "    <tr>\n",
       "      <th>2017-09-01</th>\n",
       "      <td>5.64</td>\n",
       "      <td>1.12</td>\n",
       "      <td>0.52</td>\n",
       "      <td>3.98</td>\n",
       "      <td>0.4</td>\n",
       "      <td>0.65</td>\n",
       "      <td>0.7</td>\n",
       "      <td>0.24</td>\n",
       "      <td>0.18</td>\n",
       "      <td></td>\n",
       "      <td></td>\n",
       "      <td></td>\n",
       "    </tr>\n",
       "    <tr>\n",
       "      <th>2017-10-01</th>\n",
       "      <td>5.00</td>\n",
       "      <td>0.54</td>\n",
       "      <td>0.19</td>\n",
       "      <td>0.16</td>\n",
       "      <td>0.15</td>\n",
       "      <td>0.12</td>\n",
       "      <td>0.08</td>\n",
       "      <td>0.12</td>\n",
       "      <td></td>\n",
       "      <td></td>\n",
       "      <td></td>\n",
       "      <td></td>\n",
       "    </tr>\n",
       "    <tr>\n",
       "      <th>2017-11-01</th>\n",
       "      <td>5.15</td>\n",
       "      <td>0.4</td>\n",
       "      <td>0.2</td>\n",
       "      <td>0.32</td>\n",
       "      <td>0.15</td>\n",
       "      <td>0.05</td>\n",
       "      <td>0.11</td>\n",
       "      <td></td>\n",
       "      <td></td>\n",
       "      <td></td>\n",
       "      <td></td>\n",
       "      <td></td>\n",
       "    </tr>\n",
       "    <tr>\n",
       "      <th>2017-12-01</th>\n",
       "      <td>4.74</td>\n",
       "      <td>0.26</td>\n",
       "      <td>0.93</td>\n",
       "      <td>1.07</td>\n",
       "      <td>0.31</td>\n",
       "      <td>0.34</td>\n",
       "      <td></td>\n",
       "      <td></td>\n",
       "      <td></td>\n",
       "      <td></td>\n",
       "      <td></td>\n",
       "      <td></td>\n",
       "    </tr>\n",
       "    <tr>\n",
       "      <th>2018-01-01</th>\n",
       "      <td>4.14</td>\n",
       "      <td>0.29</td>\n",
       "      <td>0.3</td>\n",
       "      <td>0.14</td>\n",
       "      <td>0.06</td>\n",
       "      <td></td>\n",
       "      <td></td>\n",
       "      <td></td>\n",
       "      <td></td>\n",
       "      <td></td>\n",
       "      <td></td>\n",
       "      <td></td>\n",
       "    </tr>\n",
       "    <tr>\n",
       "      <th>2018-02-01</th>\n",
       "      <td>4.16</td>\n",
       "      <td>0.28</td>\n",
       "      <td>0.08</td>\n",
       "      <td>0.07</td>\n",
       "      <td></td>\n",
       "      <td></td>\n",
       "      <td></td>\n",
       "      <td></td>\n",
       "      <td></td>\n",
       "      <td></td>\n",
       "      <td></td>\n",
       "      <td></td>\n",
       "    </tr>\n",
       "    <tr>\n",
       "      <th>2018-03-01</th>\n",
       "      <td>4.84</td>\n",
       "      <td>0.3</td>\n",
       "      <td>0.32</td>\n",
       "      <td></td>\n",
       "      <td></td>\n",
       "      <td></td>\n",
       "      <td></td>\n",
       "      <td></td>\n",
       "      <td></td>\n",
       "      <td></td>\n",
       "      <td></td>\n",
       "      <td></td>\n",
       "    </tr>\n",
       "    <tr>\n",
       "      <th>2018-04-01</th>\n",
       "      <td>4.66</td>\n",
       "      <td>0.53</td>\n",
       "      <td></td>\n",
       "      <td></td>\n",
       "      <td></td>\n",
       "      <td></td>\n",
       "      <td></td>\n",
       "      <td></td>\n",
       "      <td></td>\n",
       "      <td></td>\n",
       "      <td></td>\n",
       "      <td></td>\n",
       "    </tr>\n",
       "    <tr>\n",
       "      <th>2018-05-01</th>\n",
       "      <td>4.66</td>\n",
       "      <td></td>\n",
       "      <td></td>\n",
       "      <td></td>\n",
       "      <td></td>\n",
       "      <td></td>\n",
       "      <td></td>\n",
       "      <td></td>\n",
       "      <td></td>\n",
       "      <td></td>\n",
       "      <td></td>\n",
       "      <td></td>\n",
       "    </tr>\n",
       "    <tr>\n",
       "      <th>2018-06-01</th>\n",
       "      <td>3.42</td>\n",
       "      <td></td>\n",
       "      <td></td>\n",
       "      <td></td>\n",
       "      <td></td>\n",
       "      <td></td>\n",
       "      <td></td>\n",
       "      <td></td>\n",
       "      <td></td>\n",
       "      <td></td>\n",
       "      <td></td>\n",
       "      <td></td>\n",
       "    </tr>\n",
       "  </tbody>\n",
       "</table>\n",
       "</div>"
      ],
      "text/plain": [
       "Возраст       0     1     2     3     4     5     6     7     8     9     10  \\\n",
       "Когорта                                                                        \n",
       "2017-06-01  4.72  0.49  0.44  0.95  1.02  0.74  0.95  0.58  0.55  0.61  0.57   \n",
       "2017-07-01  6.01  0.34  0.62  0.36  0.18  0.16  0.12  0.14  0.16  0.15  0.16   \n",
       "2017-08-01  5.28  0.47  0.46  0.39  0.49  0.28  0.21  0.41  0.29  0.19         \n",
       "2017-09-01  5.64  1.12  0.52  3.98   0.4  0.65   0.7  0.24  0.18               \n",
       "2017-10-01  5.00  0.54  0.19  0.16  0.15  0.12  0.08  0.12                     \n",
       "2017-11-01  5.15   0.4   0.2  0.32  0.15  0.05  0.11                           \n",
       "2017-12-01  4.74  0.26  0.93  1.07  0.31  0.34                                 \n",
       "2018-01-01  4.14  0.29   0.3  0.14  0.06                                       \n",
       "2018-02-01  4.16  0.28  0.08  0.07                                             \n",
       "2018-03-01  4.84   0.3  0.32                                                   \n",
       "2018-04-01  4.66  0.53                                                         \n",
       "2018-05-01  4.66                                                               \n",
       "2018-06-01  3.42                                                               \n",
       "\n",
       "Возраст       11  \n",
       "Когорта           \n",
       "2017-06-01  0.26  \n",
       "2017-07-01        \n",
       "2017-08-01        \n",
       "2017-09-01        \n",
       "2017-10-01        \n",
       "2017-11-01        \n",
       "2017-12-01        \n",
       "2018-01-01        \n",
       "2018-02-01        \n",
       "2018-03-01        \n",
       "2018-04-01        \n",
       "2018-05-01        \n",
       "2018-06-01        "
      ]
     },
     "execution_count": 40,
     "metadata": {},
     "output_type": "execute_result"
    }
   ],
   "source": [
    "print('Ценность клиента в зависимости от возраста')\n",
    "output"
   ]
  },
  {
   "cell_type": "markdown",
   "metadata": {},
   "source": [
    "Показатель LTV падает в когортах с возрастом, так как активных пользователей остается все меньше и меньше. \n",
    "#### Период, после которого пользователи начинают покупать"
   ]
  },
  {
   "cell_type": "code",
   "execution_count": 41,
   "metadata": {},
   "outputs": [],
   "source": [
    "#группировка данных о визитах по посетителям и выбор первой даты визита\n",
    "visiters_grouped = visits.groupby('uid').agg({'start_ts':'min'}).reset_index()\n",
    "#группировка данных о заказах по покупателям и выбор первой даты заказа\n",
    "buyers_grouped = orders.groupby('uid').agg({'buy_ts':'min'})\n",
    "#объединенная таблица содержит данные о первом визите и первой покупке пользователя\n",
    "visiting_buying = pd.merge(visiters_grouped, buyers_grouped, on='uid')\n",
    "#время, прошедшее между визитом и покупкой\n",
    "visiting_buying['time_passed'] = visiting_buying['buy_ts'] - visiting_buying['start_ts']\n",
    "#фильтр значений разницы во времени, принят 5 секунд (были и отрицательные значения)\n",
    "buy_report = visiting_buying[visiting_buying['time_passed'] > datetime.timedelta(seconds=5)]\n",
    "#минуты между первым визитом и покупкой\n",
    "buy_report['time_passed'] = buy_report['time_passed'].astype('timedelta64[m]')"
   ]
  },
  {
   "cell_type": "code",
   "execution_count": 42,
   "metadata": {},
   "outputs": [
    {
     "data": {
      "image/png": "[encoded data removed]",
      "text/plain": [
       "<Figure size 1224x360 with 2 Axes>"
      ]
     },
     "metadata": {
      "needs_background": "light"
     },
     "output_type": "display_data"
    }
   ],
   "source": [
    "plt.subplots(figsize=(17,5))\n",
    "plot = buy_report.boxplot(\n",
    "    'time_passed',\n",
    "    ax = plt.subplot(1,2,1)\n",
    ")\n",
    "plt.ylim(0,11200)\n",
    "plt.xlabel('Временной промежуток между визитом и покупкой')\n",
    "plot = buy_report.hist(\n",
    "    'time_passed',\n",
    "    range=(1,100),\n",
    "    ax = plt.subplot(1,2,2)\n",
    ")\n",
    "plt.title('Распределение временных промежутков между визитом и покупкой')\n",
    "plt.xlabel('Время в минутах');"
   ]
  },
  {
   "cell_type": "markdown",
   "metadata": {},
   "source": [
    "В большинстве случаев факт первого посещения и факт покупки разделяет небольшой временной промежуток - не более 10-20 минут."
   ]
  },
  {
   "cell_type": "code",
   "execution_count": 43,
   "metadata": {},
   "outputs": [
    {
     "data": {
      "text/plain": [
       "count     34068.000000\n",
       "mean      26094.171715\n",
       "std       69857.874308\n",
       "min           1.000000\n",
       "25%           5.000000\n",
       "50%          21.000000\n",
       "75%        4438.000000\n",
       "max      523144.000000\n",
       "Name: time_passed, dtype: float64"
      ]
     },
     "execution_count": 43,
     "metadata": {},
     "output_type": "execute_result"
    }
   ],
   "source": [
    "buy_report['time_passed'].describe()"
   ]
  },
  {
   "cell_type": "markdown",
   "metadata": {},
   "source": [
    "### Маркетинг\n",
    "#### Суммарные расходы с разбивкой по источникам и месяцам"
   ]
  },
  {
   "cell_type": "code",
   "execution_count": 44,
   "metadata": {},
   "outputs": [
    {
     "data": {
      "image/png": "[encoded data removed]",
      "text/plain": [
       "<Figure size 1224x504 with 2 Axes>"
      ]
     },
     "metadata": {
      "needs_background": "light"
     },
     "output_type": "display_data"
    }
   ],
   "source": [
    "costs['month'] = costs['dt'].astype('datetime64[M]')\n",
    "costs_sum = costs['costs'].sum()\n",
    "plt.subplots(figsize=(17,7))\n",
    "plot = costs.pivot_table(\n",
    "    index='source_id',\n",
    "    values='costs',\n",
    "    aggfunc='sum'\n",
    ").plot(\n",
    "    kind='pie',\n",
    "    autopct='%1.1f%%',\n",
    "    title='Доля затрат на рекламный источник в маркетинговом бюджете',\n",
    "    y='costs',\n",
    "    legend=False,\n",
    "    explode=(0.1, 0.1, 0.1, 0.1, 0.1, 0.1, 0.1),\n",
    "    shadow=True,\n",
    "    ax = plt.subplot(1,2,1)\n",
    ")\n",
    "plt.ylabel('')\n",
    "plot = costs.pivot_table(\n",
    "    index='month',\n",
    "    values='costs',\n",
    "    aggfunc='sum'   \n",
    ").reset_index().plot(\n",
    "    x='month',\n",
    "    y='costs',\n",
    "    grid=True,\n",
    "    legend=False,\n",
    "    ax = plt.subplot(1,2,2),\n",
    "    title = 'Маркетинговые затраты по месяцам'\n",
    ")\n",
    "plt.ylabel('Затраты в руб.')\n",
    "plt.xlabel('Месяц');"
   ]
  },
  {
   "cell_type": "code",
   "execution_count": 45,
   "metadata": {},
   "outputs": [
    {
     "name": "stdout",
     "output_type": "stream",
     "text": [
      "Суммарные затраты на маркетинг за рассматриваемый период 329131.62 рублей\n"
     ]
    }
   ],
   "source": [
    "print('Суммарные затраты на маркетинг за рассматриваемый период', costs_sum, 'рублей')"
   ]
  },
  {
   "cell_type": "markdown",
   "metadata": {},
   "source": [
    "Затраты на маркетинг имеют явный сезонный характер - спадают летом, начинаю расти осенью, достигая пика к новогодним каникулам и плавно снижаются весной.\n",
    "Почти половина вложений пришлась на источник № 3, после чего практически равные доли приходятся на источники № 2, № 4 и № 5. \n",
    "\n",
    "Источники №№1, 10 и 9 финансировались по остаточному принципу.\n",
    "#### Стоимость привлечения покупателя из каждого источника"
   ]
  },
  {
   "cell_type": "code",
   "execution_count": 46,
   "metadata": {},
   "outputs": [],
   "source": [
    "#соответствие посетителя рекламному источнику из условия, что самый ранний переход посетителя приводил к покупке: \n",
    "clients_group_id = visits.groupby(['uid','source_id']).agg({'start_ts':'min'}).reset_index()\n",
    "clients_id_source = clients_group_id[['uid','source_id']]\n",
    "#суммарно потраченные средства на каждый источник:\n",
    "sources_cost = costs.groupby('source_id').agg({'costs':'sum'}).reset_index()\n",
    "#соответствие источника заказу:\n",
    "source_orders = pd.merge(clients_id_source, orders, on='uid')\n",
    "#группировка по источнику, подсчет числа уникальных покупателей и суммарной выручки от покупателей из 1 источника :\n",
    "orders_grouped_by_sources = source_orders.groupby('source_id').agg({'uid':'nunique','revenue':'sum'}).reset_index()\n",
    "orders_grouped_by_sources.columns = ['source_id','n_buyers','sum_revenue']\n",
    "#таблица соответстия затрат количеству привлеченных покупателей:\n",
    "cost_report = pd.merge(orders_grouped_by_sources, sources_cost, on='source_id')\n",
    "#отношение затрат к количеству покупателей\n",
    "cost_report['costs_per_user'] = cost_report['costs'] / cost_report['n_buyers']\n",
    "#отношение выручки к количеству покупателей\n",
    "cost_report['revenue_per_user'] = cost_report['sum_revenue'] / cost_report['n_buyers']"
   ]
  },
  {
   "cell_type": "code",
   "execution_count": 47,
   "metadata": {},
   "outputs": [
    {
     "data": {
      "text/html": [
       "<div>\n",
       "<style scoped>\n",
       "    .dataframe tbody tr th:only-of-type {\n",
       "        vertical-align: middle;\n",
       "    }\n",
       "\n",
       "    .dataframe tbody tr th {\n",
       "        vertical-align: top;\n",
       "    }\n",
       "\n",
       "    .dataframe thead th {\n",
       "        text-align: right;\n",
       "    }\n",
       "</style>\n",
       "<table border=\"1\" class=\"dataframe\">\n",
       "  <thead>\n",
       "    <tr style=\"text-align: right;\">\n",
       "      <th></th>\n",
       "      <th>Источник</th>\n",
       "      <th>Кол-во покупателей</th>\n",
       "      <th>Выручка</th>\n",
       "      <th>Затраты</th>\n",
       "      <th>Уд.затраты</th>\n",
       "      <th>Уд.выручка</th>\n",
       "    </tr>\n",
       "  </thead>\n",
       "  <tbody>\n",
       "    <tr>\n",
       "      <th>0</th>\n",
       "      <td>1</td>\n",
       "      <td>7138</td>\n",
       "      <td>101631.38</td>\n",
       "      <td>20833.27</td>\n",
       "      <td>2.92</td>\n",
       "      <td>14.24</td>\n",
       "    </tr>\n",
       "    <tr>\n",
       "      <th>1</th>\n",
       "      <td>2</td>\n",
       "      <td>7305</td>\n",
       "      <td>113524.51</td>\n",
       "      <td>42806.04</td>\n",
       "      <td>5.86</td>\n",
       "      <td>15.54</td>\n",
       "    </tr>\n",
       "    <tr>\n",
       "      <th>2</th>\n",
       "      <td>3</td>\n",
       "      <td>13846</td>\n",
       "      <td>119193.48</td>\n",
       "      <td>141321.63</td>\n",
       "      <td>10.21</td>\n",
       "      <td>8.61</td>\n",
       "    </tr>\n",
       "    <tr>\n",
       "      <th>3</th>\n",
       "      <td>4</td>\n",
       "      <td>14253</td>\n",
       "      <td>119899.47</td>\n",
       "      <td>61073.60</td>\n",
       "      <td>4.28</td>\n",
       "      <td>8.41</td>\n",
       "    </tr>\n",
       "    <tr>\n",
       "      <th>4</th>\n",
       "      <td>5</td>\n",
       "      <td>10156</td>\n",
       "      <td>111532.65</td>\n",
       "      <td>51757.10</td>\n",
       "      <td>5.10</td>\n",
       "      <td>10.98</td>\n",
       "    </tr>\n",
       "    <tr>\n",
       "      <th>5</th>\n",
       "      <td>9</td>\n",
       "      <td>2793</td>\n",
       "      <td>18809.68</td>\n",
       "      <td>5517.49</td>\n",
       "      <td>1.98</td>\n",
       "      <td>6.73</td>\n",
       "    </tr>\n",
       "    <tr>\n",
       "      <th>6</th>\n",
       "      <td>10</td>\n",
       "      <td>1773</td>\n",
       "      <td>8218.72</td>\n",
       "      <td>5822.49</td>\n",
       "      <td>3.28</td>\n",
       "      <td>4.64</td>\n",
       "    </tr>\n",
       "  </tbody>\n",
       "</table>\n",
       "</div>"
      ],
      "text/plain": [
       "   Источник  Кол-во покупателей    Выручка    Затраты  Уд.затраты  Уд.выручка\n",
       "0         1                7138  101631.38   20833.27        2.92       14.24\n",
       "1         2                7305  113524.51   42806.04        5.86       15.54\n",
       "2         3               13846  119193.48  141321.63       10.21        8.61\n",
       "3         4               14253  119899.47   61073.60        4.28        8.41\n",
       "4         5               10156  111532.65   51757.10        5.10       10.98\n",
       "5         9                2793   18809.68    5517.49        1.98        6.73\n",
       "6        10                1773    8218.72    5822.49        3.28        4.64"
      ]
     },
     "execution_count": 47,
     "metadata": {},
     "output_type": "execute_result"
    }
   ],
   "source": [
    "cost_report['costs_per_user'] = cost_report['costs_per_user'].round(2)\n",
    "cost_report['revenue_per_user'] = cost_report['revenue_per_user'].round(2)\n",
    "cost_report.columns = ['Источник','Кол-во покупателей','Выручка','Затраты','Уд.затраты','Уд.выручка']\n",
    "cost_report"
   ]
  },
  {
   "cell_type": "markdown",
   "metadata": {},
   "source": [
    "Несмотря на то, что вложения в 3 источник оказались самыми большими на данный момент они еще не окупились. Инвестиции в остальные источники окупились в некоторых случаях многократно, особенно для источника № 1, где каждый вложенный рубль дал почти 5 рублей выручки. Вероятно, следует пересмотреть структуру вложений.\n",
    "\n",
    "#### ROI"
   ]
  },
  {
   "cell_type": "code",
   "execution_count": 48,
   "metadata": {
    "scrolled": true
   },
   "outputs": [
    {
     "data": {
      "text/html": [
       "<div>\n",
       "<style scoped>\n",
       "    .dataframe tbody tr th:only-of-type {\n",
       "        vertical-align: middle;\n",
       "    }\n",
       "\n",
       "    .dataframe tbody tr th {\n",
       "        vertical-align: top;\n",
       "    }\n",
       "\n",
       "    .dataframe thead th {\n",
       "        text-align: right;\n",
       "    }\n",
       "</style>\n",
       "<table border=\"1\" class=\"dataframe\">\n",
       "  <thead>\n",
       "    <tr style=\"text-align: right;\">\n",
       "      <th>Возраст, мес</th>\n",
       "      <th>0</th>\n",
       "      <th>1</th>\n",
       "      <th>2</th>\n",
       "      <th>3</th>\n",
       "      <th>4</th>\n",
       "      <th>5</th>\n",
       "      <th>6</th>\n",
       "      <th>7</th>\n",
       "      <th>8</th>\n",
       "      <th>9</th>\n",
       "      <th>10</th>\n",
       "      <th>11</th>\n",
       "    </tr>\n",
       "    <tr>\n",
       "      <th>Когорта</th>\n",
       "      <th></th>\n",
       "      <th></th>\n",
       "      <th></th>\n",
       "      <th></th>\n",
       "      <th></th>\n",
       "      <th></th>\n",
       "      <th></th>\n",
       "      <th></th>\n",
       "      <th></th>\n",
       "      <th></th>\n",
       "      <th></th>\n",
       "      <th></th>\n",
       "    </tr>\n",
       "  </thead>\n",
       "  <tbody>\n",
       "    <tr>\n",
       "      <th>2017-06-01</th>\n",
       "      <td>0.53</td>\n",
       "      <td>0.59</td>\n",
       "      <td>0.63</td>\n",
       "      <td>0.74</td>\n",
       "      <td>0.86</td>\n",
       "      <td>0.94</td>\n",
       "      <td>1.05</td>\n",
       "      <td>1.11</td>\n",
       "      <td>1.17</td>\n",
       "      <td>1.24</td>\n",
       "      <td>1.31</td>\n",
       "      <td>1.33</td>\n",
       "    </tr>\n",
       "    <tr>\n",
       "      <th>2017-07-01</th>\n",
       "      <td>0.63</td>\n",
       "      <td>0.67</td>\n",
       "      <td>0.73</td>\n",
       "      <td>0.77</td>\n",
       "      <td>0.79</td>\n",
       "      <td>0.81</td>\n",
       "      <td>0.82</td>\n",
       "      <td>0.84</td>\n",
       "      <td>0.85</td>\n",
       "      <td>0.87</td>\n",
       "      <td>0.88</td>\n",
       "      <td></td>\n",
       "    </tr>\n",
       "    <tr>\n",
       "      <th>2017-08-01</th>\n",
       "      <td>0.49</td>\n",
       "      <td>0.53</td>\n",
       "      <td>0.57</td>\n",
       "      <td>0.61</td>\n",
       "      <td>0.66</td>\n",
       "      <td>0.68</td>\n",
       "      <td>0.7</td>\n",
       "      <td>0.74</td>\n",
       "      <td>0.77</td>\n",
       "      <td>0.78</td>\n",
       "      <td></td>\n",
       "      <td></td>\n",
       "    </tr>\n",
       "    <tr>\n",
       "      <th>2017-09-01</th>\n",
       "      <td>0.60</td>\n",
       "      <td>0.72</td>\n",
       "      <td>0.77</td>\n",
       "      <td>1.19</td>\n",
       "      <td>1.23</td>\n",
       "      <td>1.3</td>\n",
       "      <td>1.38</td>\n",
       "      <td>1.4</td>\n",
       "      <td>1.42</td>\n",
       "      <td></td>\n",
       "      <td></td>\n",
       "      <td></td>\n",
       "    </tr>\n",
       "    <tr>\n",
       "      <th>2017-10-01</th>\n",
       "      <td>0.60</td>\n",
       "      <td>0.66</td>\n",
       "      <td>0.68</td>\n",
       "      <td>0.7</td>\n",
       "      <td>0.72</td>\n",
       "      <td>0.74</td>\n",
       "      <td>0.75</td>\n",
       "      <td>0.76</td>\n",
       "      <td></td>\n",
       "      <td></td>\n",
       "      <td></td>\n",
       "      <td></td>\n",
       "    </tr>\n",
       "    <tr>\n",
       "      <th>2017-11-01</th>\n",
       "      <td>0.55</td>\n",
       "      <td>0.6</td>\n",
       "      <td>0.62</td>\n",
       "      <td>0.65</td>\n",
       "      <td>0.67</td>\n",
       "      <td>0.68</td>\n",
       "      <td>0.69</td>\n",
       "      <td></td>\n",
       "      <td></td>\n",
       "      <td></td>\n",
       "      <td></td>\n",
       "      <td></td>\n",
       "    </tr>\n",
       "    <tr>\n",
       "      <th>2017-12-01</th>\n",
       "      <td>0.54</td>\n",
       "      <td>0.57</td>\n",
       "      <td>0.68</td>\n",
       "      <td>0.8</td>\n",
       "      <td>0.84</td>\n",
       "      <td>0.87</td>\n",
       "      <td></td>\n",
       "      <td></td>\n",
       "      <td></td>\n",
       "      <td></td>\n",
       "      <td></td>\n",
       "      <td></td>\n",
       "    </tr>\n",
       "    <tr>\n",
       "      <th>2018-01-01</th>\n",
       "      <td>0.42</td>\n",
       "      <td>0.45</td>\n",
       "      <td>0.48</td>\n",
       "      <td>0.49</td>\n",
       "      <td>0.5</td>\n",
       "      <td></td>\n",
       "      <td></td>\n",
       "      <td></td>\n",
       "      <td></td>\n",
       "      <td></td>\n",
       "      <td></td>\n",
       "      <td></td>\n",
       "    </tr>\n",
       "    <tr>\n",
       "      <th>2018-02-01</th>\n",
       "      <td>0.46</td>\n",
       "      <td>0.49</td>\n",
       "      <td>0.5</td>\n",
       "      <td>0.51</td>\n",
       "      <td></td>\n",
       "      <td></td>\n",
       "      <td></td>\n",
       "      <td></td>\n",
       "      <td></td>\n",
       "      <td></td>\n",
       "      <td></td>\n",
       "      <td></td>\n",
       "    </tr>\n",
       "    <tr>\n",
       "      <th>2018-03-01</th>\n",
       "      <td>0.56</td>\n",
       "      <td>0.6</td>\n",
       "      <td>0.63</td>\n",
       "      <td></td>\n",
       "      <td></td>\n",
       "      <td></td>\n",
       "      <td></td>\n",
       "      <td></td>\n",
       "      <td></td>\n",
       "      <td></td>\n",
       "      <td></td>\n",
       "      <td></td>\n",
       "    </tr>\n",
       "    <tr>\n",
       "      <th>2018-04-01</th>\n",
       "      <td>0.48</td>\n",
       "      <td>0.53</td>\n",
       "      <td></td>\n",
       "      <td></td>\n",
       "      <td></td>\n",
       "      <td></td>\n",
       "      <td></td>\n",
       "      <td></td>\n",
       "      <td></td>\n",
       "      <td></td>\n",
       "      <td></td>\n",
       "      <td></td>\n",
       "    </tr>\n",
       "    <tr>\n",
       "      <th>2018-05-01</th>\n",
       "      <td>0.63</td>\n",
       "      <td></td>\n",
       "      <td></td>\n",
       "      <td></td>\n",
       "      <td></td>\n",
       "      <td></td>\n",
       "      <td></td>\n",
       "      <td></td>\n",
       "      <td></td>\n",
       "      <td></td>\n",
       "      <td></td>\n",
       "      <td></td>\n",
       "    </tr>\n",
       "  </tbody>\n",
       "</table>\n",
       "</div>"
      ],
      "text/plain": [
       "Возраст, мес    0     1     2     3     4     5     6     7     8     9   \\\n",
       "Когорта                                                                    \n",
       "2017-06-01    0.53  0.59  0.63  0.74  0.86  0.94  1.05  1.11  1.17  1.24   \n",
       "2017-07-01    0.63  0.67  0.73  0.77  0.79  0.81  0.82  0.84  0.85  0.87   \n",
       "2017-08-01    0.49  0.53  0.57  0.61  0.66  0.68   0.7  0.74  0.77  0.78   \n",
       "2017-09-01    0.60  0.72  0.77  1.19  1.23   1.3  1.38   1.4  1.42         \n",
       "2017-10-01    0.60  0.66  0.68   0.7  0.72  0.74  0.75  0.76               \n",
       "2017-11-01    0.55   0.6  0.62  0.65  0.67  0.68  0.69                     \n",
       "2017-12-01    0.54  0.57  0.68   0.8  0.84  0.87                           \n",
       "2018-01-01    0.42  0.45  0.48  0.49   0.5                                 \n",
       "2018-02-01    0.46  0.49   0.5  0.51                                       \n",
       "2018-03-01    0.56   0.6  0.63                                             \n",
       "2018-04-01    0.48  0.53                                                   \n",
       "2018-05-01    0.63                                                         \n",
       "\n",
       "Возраст, мес    10    11  \n",
       "Когорта                   \n",
       "2017-06-01    1.31  1.33  \n",
       "2017-07-01    0.88        \n",
       "2017-08-01                \n",
       "2017-09-01                \n",
       "2017-10-01                \n",
       "2017-11-01                \n",
       "2017-12-01                \n",
       "2018-01-01                \n",
       "2018-02-01                \n",
       "2018-03-01                \n",
       "2018-04-01                \n",
       "2018-05-01                "
      ]
     },
     "execution_count": 48,
     "metadata": {},
     "output_type": "execute_result"
    }
   ],
   "source": [
    "monthly_cost = costs.groupby('month').agg({'costs':'sum'}).reset_index()\n",
    "report_roi = pd.merge(report, monthly_cost, left_on='first_order_month', right_on='month')\n",
    "report_roi['cac'] = report_roi['costs'] / report_roi['n_users']\n",
    "report_roi['roi'] = report_roi['ltv'] / report_roi['cac']\n",
    "output_roi = report_roi.pivot_table(\n",
    "    index = 'first_order_month',\n",
    "    columns = 'age',\n",
    "    values = 'roi',\n",
    "    aggfunc = 'mean'\n",
    ")\n",
    "output_roi.columns.name = 'Возраст, мес'\n",
    "output_roi.index.name = 'Когорта'\n",
    "output_roi.cumsum(axis=1).round(2).fillna('')"
   ]
  },
  {
   "cell_type": "code",
   "execution_count": 49,
   "metadata": {},
   "outputs": [
    {
     "data": {
      "text/plain": [
       "Возраст, мес\n",
       "0     0.540816\n",
       "1     0.581985\n",
       "2     0.631069\n",
       "3     0.719740\n",
       "4     0.782946\n",
       "5     0.859876\n",
       "6     0.896819\n",
       "7     0.969951\n",
       "8     1.053871\n",
       "9     0.964488\n",
       "10    1.094658\n",
       "11    1.333982\n",
       "dtype: float64"
      ]
     },
     "execution_count": 49,
     "metadata": {},
     "output_type": "execute_result"
    }
   ],
   "source": [
    "output_roi.cumsum(axis=1).mean(axis=0)"
   ]
  },
  {
   "cell_type": "markdown",
   "metadata": {},
   "source": [
    "За редким исключением, ни одна когорта не окупила инвестиции в собственное привлечение. И для \"средней когорты\" период окупаемости составляет практически год (около 10 месяцев). Рассматрия структуру вложений по источникам и сопоставляя удельную выручку и удельные затраты по рекламным источникам следует отметить, что ставка на 3 источник являлась ошибочной.  "
   ]
  },
  {
   "cell_type": "markdown",
   "metadata": {},
   "source": [
    "## Общие выводы\n",
    "1. Сервис имеет большой потенциал, однако, сейчас обладает крайне малым количеством постоянных клиентов и это системное явление, повторяющееся со временем и имеющем даже негативную динамику. Необходимо развививать программу лояльности.\n",
    "2. Большинство обращений пользователей к сервису не превышают 40 минут, среднее время - 4 минуты, а наиболее часто повторяющееся - 60 с - слишком мало для того, чтобы выбрать событие, прочесть о нем всю информацию и купить билет. Вероятно, существует что-то отталкивающее пользователей.\n",
    "\n",
    "\n",
    "3. Сумма среднего чека увеличивается с течением времени в когортах относительно начального значения, что связано с уменьшением количества покупателей. Отдельно выделяется первая когорта 2017-06, средний чек в которой исчисляется десятками рублей достаточно долгое время. Подробно изучив эту когорту, можно оценить факторы, влияющие на увеличение суммы среднего чека.\n",
    "\n",
    "\n",
    "4. В первой когорте (2017-06) также достаточно длительное время сохраняется относительно высокое количество ежемесячных покупок. Выделяются и другие когорты, сформированные близ Нового года: когорты 2017-10, 2017-11, 2017-12 отличаются самыми высокими значениями числа покупок на второй месяц, впрочем, активность пользователей достаточно быстро снижается (не отличается стабильностью). Вероятно, имеет место сезонность.\n",
    "\n",
    "\n",
    "5. Показатель LTV падает в когортах с возрастом, так как активных пользователей становится меньше. В некоторых когортах подобная закономерность иногда нарушается, возникают резкие всплески ценности. При ближайшем рассмотрении оказывается, что это связано скорее с сезонным повышением интереса, как, например, в когорте 2017-09 на 3 месяц жизни, приодящийся на декабрь 2017 года;\n",
    "\n",
    "\n",
    "6. В основном период между визитом пользователя и совершением им покупки не превышает десятки минут, чаще всего до 10 минут. Вероятно это связано с использованием ресурса именно как транзакционного центра, где совершается оплата. Выбор события происходит на других ресурсах либо на рекламных источниках. Вероятно именно с этим и связан низкий коэффициент удержания клиентов. Это еще раз говорит о необходимости развития программы лояльности, а также повышения самостоятельной ценности ресурса.\n",
    "\n",
    "\n",
    "7. Маректинговые затраты на период составили немногим меньше 330 000 рублей. Распредедение по месяцам неравномерное с выраженной сезонностью: спадают летом, начинаю расти осенью, достигая пика к новогодним каникулам и плавно снижаются весной. Почти половина всех вложений приходится на Источник № 3, при этом вложения в него не окупаются. Вложения в Источник № 1, составившие почти 21 000 рублей окупились многократно: каждый вложенный рубль принес почти 5 рублей выручки.\n",
    "\n",
    "\n",
    "8. Вероятно, приоритет финансирования Источника № 3 является причиной неокупаемости когорт, за исключением лишь двух первой 2017-06 и сентябрьской 2017-09, которой также принадлежит первенство по максимальному значению среднего чека в декабре 2017 года. В целом, период окупаемости за выбранный период составляет около 10 месяцев. Следует пересмотреть структуру вложений."
   ]
  },
  {
   "cell_type": "code",
   "execution_count": null,
   "metadata": {},
   "outputs": [],
   "source": []
  }
 ],
 "metadata": {
  "kernelspec": {
   "display_name": "Python 3",
   "language": "python",
   "name": "python3"
  },
  "language_info": {
   "codemirror_mode": {
    "name": "ipython",
    "version": 3
   },
   "file_extension": ".py",
   "mimetype": "text/x-python",
   "name": "python",
   "nbconvert_exporter": "python",
   "pygments_lexer": "ipython3",
   "version": "3.7.3"
  }
 },
 "nbformat": 4,
 "nbformat_minor": 2
}
