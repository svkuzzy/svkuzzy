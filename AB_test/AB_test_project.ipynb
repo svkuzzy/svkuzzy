{
 "cells": [
  {
   "cell_type": "markdown",
   "metadata": {},
   "source": [
    "## Импорт библиотек"
   ]
  },
  {
   "cell_type": "code",
   "execution_count": 1,
   "metadata": {},
   "outputs": [],
   "source": [
    "import pandas as pd\n",
    "import numpy as np\n",
    "import matplotlib.pyplot as plt\n",
    "import datetime as dt\n",
    "import scipy.stats as stats "
   ]
  },
  {
   "cell_type": "markdown",
   "metadata": {},
   "source": [
    "## Получение данных"
   ]
  },
  {
   "cell_type": "code",
   "execution_count": 2,
   "metadata": {},
   "outputs": [
    {
     "data": {
      "text/html": [
       "<div>\n",
       "<style scoped>\n",
       "    .dataframe tbody tr th:only-of-type {\n",
       "        vertical-align: middle;\n",
       "    }\n",
       "\n",
       "    .dataframe tbody tr th {\n",
       "        vertical-align: top;\n",
       "    }\n",
       "\n",
       "    .dataframe thead th {\n",
       "        text-align: right;\n",
       "    }\n",
       "</style>\n",
       "<table border=\"1\" class=\"dataframe\">\n",
       "  <thead>\n",
       "    <tr style=\"text-align: right;\">\n",
       "      <th></th>\n",
       "      <th>Hypothesis</th>\n",
       "      <th>Reach</th>\n",
       "      <th>Impact</th>\n",
       "      <th>Confidence</th>\n",
       "      <th>Efforts</th>\n",
       "    </tr>\n",
       "  </thead>\n",
       "  <tbody>\n",
       "    <tr>\n",
       "      <td>0</td>\n",
       "      <td>Добавить два новых канала привлечения трафика, что позволит привлекать на 30% больше пользователей</td>\n",
       "      <td>3</td>\n",
       "      <td>10</td>\n",
       "      <td>8</td>\n",
       "      <td>6</td>\n",
       "    </tr>\n",
       "    <tr>\n",
       "      <td>1</td>\n",
       "      <td>Запустить собственную службу доставки, что сократит срок доставки заказов</td>\n",
       "      <td>2</td>\n",
       "      <td>5</td>\n",
       "      <td>4</td>\n",
       "      <td>10</td>\n",
       "    </tr>\n",
       "    <tr>\n",
       "      <td>2</td>\n",
       "      <td>Добавить блоки рекомендаций товаров на сайт интернет магазина, чтобы повысить конверсию и средни...</td>\n",
       "      <td>8</td>\n",
       "      <td>3</td>\n",
       "      <td>7</td>\n",
       "      <td>3</td>\n",
       "    </tr>\n",
       "    <tr>\n",
       "      <td>3</td>\n",
       "      <td>Изменить структура категорий, что увеличит конверсию, т.к. пользователи быстрее найдут нужный товар</td>\n",
       "      <td>8</td>\n",
       "      <td>3</td>\n",
       "      <td>3</td>\n",
       "      <td>8</td>\n",
       "    </tr>\n",
       "    <tr>\n",
       "      <td>4</td>\n",
       "      <td>Изменить цвет фона главной страницы, чтобы увеличить вовлеченность пользователей</td>\n",
       "      <td>3</td>\n",
       "      <td>1</td>\n",
       "      <td>1</td>\n",
       "      <td>1</td>\n",
       "    </tr>\n",
       "    <tr>\n",
       "      <td>5</td>\n",
       "      <td>Добавить страницу отзывов клиентов о магазине, что позволит увеличить количество заказов</td>\n",
       "      <td>3</td>\n",
       "      <td>2</td>\n",
       "      <td>2</td>\n",
       "      <td>3</td>\n",
       "    </tr>\n",
       "    <tr>\n",
       "      <td>6</td>\n",
       "      <td>Показать на главной странице баннеры с актуальными акциями и распродажами, чтобы увеличить конве...</td>\n",
       "      <td>5</td>\n",
       "      <td>3</td>\n",
       "      <td>8</td>\n",
       "      <td>3</td>\n",
       "    </tr>\n",
       "    <tr>\n",
       "      <td>7</td>\n",
       "      <td>Добавить форму подписки на все основные страницы, чтобы собрать базу клиентов для email-рассылок</td>\n",
       "      <td>10</td>\n",
       "      <td>7</td>\n",
       "      <td>8</td>\n",
       "      <td>5</td>\n",
       "    </tr>\n",
       "    <tr>\n",
       "      <td>8</td>\n",
       "      <td>Запустить акцию, дающую скидку на товар в день рождения</td>\n",
       "      <td>1</td>\n",
       "      <td>9</td>\n",
       "      <td>9</td>\n",
       "      <td>5</td>\n",
       "    </tr>\n",
       "  </tbody>\n",
       "</table>\n",
       "</div>"
      ],
      "text/plain": [
       "                                                                                            Hypothesis  \\\n",
       "0   Добавить два новых канала привлечения трафика, что позволит привлекать на 30% больше пользователей   \n",
       "1                            Запустить собственную службу доставки, что сократит срок доставки заказов   \n",
       "2  Добавить блоки рекомендаций товаров на сайт интернет магазина, чтобы повысить конверсию и средни...   \n",
       "3  Изменить структура категорий, что увеличит конверсию, т.к. пользователи быстрее найдут нужный товар   \n",
       "4                     Изменить цвет фона главной страницы, чтобы увеличить вовлеченность пользователей   \n",
       "5             Добавить страницу отзывов клиентов о магазине, что позволит увеличить количество заказов   \n",
       "6  Показать на главной странице баннеры с актуальными акциями и распродажами, чтобы увеличить конве...   \n",
       "7     Добавить форму подписки на все основные страницы, чтобы собрать базу клиентов для email-рассылок   \n",
       "8                                              Запустить акцию, дающую скидку на товар в день рождения   \n",
       "\n",
       "   Reach  Impact  Confidence  Efforts  \n",
       "0      3      10           8        6  \n",
       "1      2       5           4       10  \n",
       "2      8       3           7        3  \n",
       "3      8       3           3        8  \n",
       "4      3       1           1        1  \n",
       "5      3       2           2        3  \n",
       "6      5       3           8        3  \n",
       "7     10       7           8        5  \n",
       "8      1       9           9        5  "
      ]
     },
     "execution_count": 2,
     "metadata": {},
     "output_type": "execute_result"
    }
   ],
   "source": [
    "hypo = pd.read_csv('/datasets/hypothesis.csv')\n",
    "pd.options.display.max_colwidth = 100\n",
    "hypo"
   ]
  },
  {
   "cell_type": "code",
   "execution_count": 3,
   "metadata": {},
   "outputs": [
    {
     "data": {
      "text/html": [
       "<div>\n",
       "<style scoped>\n",
       "    .dataframe tbody tr th:only-of-type {\n",
       "        vertical-align: middle;\n",
       "    }\n",
       "\n",
       "    .dataframe tbody tr th {\n",
       "        vertical-align: top;\n",
       "    }\n",
       "\n",
       "    .dataframe thead th {\n",
       "        text-align: right;\n",
       "    }\n",
       "</style>\n",
       "<table border=\"1\" class=\"dataframe\">\n",
       "  <thead>\n",
       "    <tr style=\"text-align: right;\">\n",
       "      <th></th>\n",
       "      <th>date</th>\n",
       "      <th>group</th>\n",
       "      <th>visitors</th>\n",
       "    </tr>\n",
       "  </thead>\n",
       "  <tbody>\n",
       "    <tr>\n",
       "      <td>0</td>\n",
       "      <td>2019-08-01</td>\n",
       "      <td>A</td>\n",
       "      <td>719</td>\n",
       "    </tr>\n",
       "    <tr>\n",
       "      <td>1</td>\n",
       "      <td>2019-08-02</td>\n",
       "      <td>A</td>\n",
       "      <td>619</td>\n",
       "    </tr>\n",
       "    <tr>\n",
       "      <td>2</td>\n",
       "      <td>2019-08-03</td>\n",
       "      <td>A</td>\n",
       "      <td>507</td>\n",
       "    </tr>\n",
       "    <tr>\n",
       "      <td>3</td>\n",
       "      <td>2019-08-04</td>\n",
       "      <td>A</td>\n",
       "      <td>717</td>\n",
       "    </tr>\n",
       "    <tr>\n",
       "      <td>4</td>\n",
       "      <td>2019-08-05</td>\n",
       "      <td>A</td>\n",
       "      <td>756</td>\n",
       "    </tr>\n",
       "  </tbody>\n",
       "</table>\n",
       "</div>"
      ],
      "text/plain": [
       "         date group  visitors\n",
       "0  2019-08-01     A       719\n",
       "1  2019-08-02     A       619\n",
       "2  2019-08-03     A       507\n",
       "3  2019-08-04     A       717\n",
       "4  2019-08-05     A       756"
      ]
     },
     "execution_count": 3,
     "metadata": {},
     "output_type": "execute_result"
    }
   ],
   "source": [
    "visitors = pd.read_csv('/datasets/visitors.csv')\n",
    "visitors.head()"
   ]
  },
  {
   "cell_type": "code",
   "execution_count": 4,
   "metadata": {},
   "outputs": [
    {
     "data": {
      "text/html": [
       "<div>\n",
       "<style scoped>\n",
       "    .dataframe tbody tr th:only-of-type {\n",
       "        vertical-align: middle;\n",
       "    }\n",
       "\n",
       "    .dataframe tbody tr th {\n",
       "        vertical-align: top;\n",
       "    }\n",
       "\n",
       "    .dataframe thead th {\n",
       "        text-align: right;\n",
       "    }\n",
       "</style>\n",
       "<table border=\"1\" class=\"dataframe\">\n",
       "  <thead>\n",
       "    <tr style=\"text-align: right;\">\n",
       "      <th></th>\n",
       "      <th>transactionId</th>\n",
       "      <th>visitorId</th>\n",
       "      <th>date</th>\n",
       "      <th>revenue</th>\n",
       "      <th>group</th>\n",
       "    </tr>\n",
       "  </thead>\n",
       "  <tbody>\n",
       "    <tr>\n",
       "      <td>0</td>\n",
       "      <td>3667963787</td>\n",
       "      <td>3312258926</td>\n",
       "      <td>2019-08-15</td>\n",
       "      <td>1650</td>\n",
       "      <td>B</td>\n",
       "    </tr>\n",
       "    <tr>\n",
       "      <td>1</td>\n",
       "      <td>2804400009</td>\n",
       "      <td>3642806036</td>\n",
       "      <td>2019-08-15</td>\n",
       "      <td>730</td>\n",
       "      <td>B</td>\n",
       "    </tr>\n",
       "    <tr>\n",
       "      <td>2</td>\n",
       "      <td>2961555356</td>\n",
       "      <td>4069496402</td>\n",
       "      <td>2019-08-15</td>\n",
       "      <td>400</td>\n",
       "      <td>A</td>\n",
       "    </tr>\n",
       "    <tr>\n",
       "      <td>3</td>\n",
       "      <td>3797467345</td>\n",
       "      <td>1196621759</td>\n",
       "      <td>2019-08-15</td>\n",
       "      <td>9759</td>\n",
       "      <td>B</td>\n",
       "    </tr>\n",
       "    <tr>\n",
       "      <td>4</td>\n",
       "      <td>2282983706</td>\n",
       "      <td>2322279887</td>\n",
       "      <td>2019-08-15</td>\n",
       "      <td>2308</td>\n",
       "      <td>B</td>\n",
       "    </tr>\n",
       "  </tbody>\n",
       "</table>\n",
       "</div>"
      ],
      "text/plain": [
       "   transactionId   visitorId        date  revenue group\n",
       "0     3667963787  3312258926  2019-08-15     1650     B\n",
       "1     2804400009  3642806036  2019-08-15      730     B\n",
       "2     2961555356  4069496402  2019-08-15      400     A\n",
       "3     3797467345  1196621759  2019-08-15     9759     B\n",
       "4     2282983706  2322279887  2019-08-15     2308     B"
      ]
     },
     "execution_count": 4,
     "metadata": {},
     "output_type": "execute_result"
    }
   ],
   "source": [
    "orders = pd.read_csv('/datasets/orders.csv')\n",
    "orders.head()"
   ]
  },
  {
   "cell_type": "markdown",
   "metadata": {},
   "source": [
    "Данные загрузились успешно\n",
    "## Оценка и предобработка данных"
   ]
  },
  {
   "cell_type": "code",
   "execution_count": 5,
   "metadata": {},
   "outputs": [
    {
     "name": "stdout",
     "output_type": "stream",
     "text": [
      "<class 'pandas.core.frame.DataFrame'>\n",
      "RangeIndex: 62 entries, 0 to 61\n",
      "Data columns (total 3 columns):\n",
      "date        62 non-null object\n",
      "group       62 non-null object\n",
      "visitors    62 non-null int64\n",
      "dtypes: int64(1), object(2)\n",
      "memory usage: 1.6+ KB\n",
      "\n",
      "<class 'pandas.core.frame.DataFrame'>\n",
      "RangeIndex: 1197 entries, 0 to 1196\n",
      "Data columns (total 5 columns):\n",
      "transactionId    1197 non-null int64\n",
      "visitorId        1197 non-null int64\n",
      "date             1197 non-null object\n",
      "revenue          1197 non-null int64\n",
      "group            1197 non-null object\n",
      "dtypes: int64(3), object(2)\n",
      "memory usage: 46.9+ KB\n"
     ]
    }
   ],
   "source": [
    "visitors.info()\n",
    "print()\n",
    "orders.info()"
   ]
  },
  {
   "cell_type": "markdown",
   "metadata": {},
   "source": [
    "Пропуски отсутствуют. Необходимо изменить тип данных в колонке 'date' в обоих наборах данных."
   ]
  },
  {
   "cell_type": "code",
   "execution_count": 6,
   "metadata": {},
   "outputs": [],
   "source": [
    "visitors['date'] = pd.to_datetime(\n",
    "    visitors['date'],\n",
    "    format = '%Y-%m-%d'\n",
    ")\n",
    "orders['date'] = pd.to_datetime(\n",
    "    orders['date'],\n",
    "    format = '%Y-%m-%d'\n",
    ")"
   ]
  },
  {
   "cell_type": "markdown",
   "metadata": {},
   "source": [
    "Количество посетителей в группах A и B должно быть одинаковым либо не отличаться более, чем на 1 %"
   ]
  },
  {
   "cell_type": "code",
   "execution_count": 7,
   "metadata": {},
   "outputs": [
    {
     "name": "stdout",
     "output_type": "stream",
     "text": [
      "Деление на группы неравномерное, относительная разница (A-B)/A = -0.96%\n"
     ]
    }
   ],
   "source": [
    "if (visitors[visitors['group'] == 'A']['visitors'].sum()) == (visitors[\n",
    "    visitors['group'] == 'B']['visitors'].sum()):\n",
    "    print('Деление на группы равномерное')\n",
    "else:\n",
    "    print('Деление на группы неравномерное, относительная разница (A-B)/A = {:.2%}'.format(\n",
    "    (visitors[\n",
    "        visitors['group'] == 'A']['visitors'].sum() - visitors[\n",
    "        visitors['group'] == 'B']['visitors'].sum()) / visitors[\n",
    "        visitors['group'] == 'A']['visitors'].sum()))"
   ]
  },
  {
   "cell_type": "markdown",
   "metadata": {},
   "source": [
    "Разница не превышает 1,0 %, принимается, что группы формируются относительно равномерно "
   ]
  },
  {
   "cell_type": "code",
   "execution_count": 8,
   "metadata": {},
   "outputs": [
    {
     "data": {
      "text/plain": [
       "58"
      ]
     },
     "execution_count": 8,
     "metadata": {},
     "output_type": "execute_result"
    }
   ],
   "source": [
    "B_buyer = orders[orders['group'] == 'B']['visitorId'].value_counts().index\n",
    "A_buyer = orders[orders['group'] == 'A']['visitorId'].value_counts().index\n",
    "len(A_buyer[A_buyer.isin(B_buyer)])"
   ]
  },
  {
   "cell_type": "markdown",
   "metadata": {},
   "source": [
    "58 пользователей группы A совершали покупки, находясь и в группе B. Например, пользователь 4256040402:"
   ]
  },
  {
   "cell_type": "code",
   "execution_count": 9,
   "metadata": {},
   "outputs": [
    {
     "data": {
      "text/html": [
       "<div>\n",
       "<style scoped>\n",
       "    .dataframe tbody tr th:only-of-type {\n",
       "        vertical-align: middle;\n",
       "    }\n",
       "\n",
       "    .dataframe tbody tr th {\n",
       "        vertical-align: top;\n",
       "    }\n",
       "\n",
       "    .dataframe thead th {\n",
       "        text-align: right;\n",
       "    }\n",
       "</style>\n",
       "<table border=\"1\" class=\"dataframe\">\n",
       "  <thead>\n",
       "    <tr style=\"text-align: right;\">\n",
       "      <th></th>\n",
       "      <th>transactionId</th>\n",
       "      <th>visitorId</th>\n",
       "      <th>date</th>\n",
       "      <th>revenue</th>\n",
       "      <th>group</th>\n",
       "    </tr>\n",
       "  </thead>\n",
       "  <tbody>\n",
       "    <tr>\n",
       "      <td>114</td>\n",
       "      <td>1120327437</td>\n",
       "      <td>4256040402</td>\n",
       "      <td>2019-08-01</td>\n",
       "      <td>5800</td>\n",
       "      <td>A</td>\n",
       "    </tr>\n",
       "    <tr>\n",
       "      <td>873</td>\n",
       "      <td>2519737434</td>\n",
       "      <td>4256040402</td>\n",
       "      <td>2019-08-08</td>\n",
       "      <td>58220</td>\n",
       "      <td>B</td>\n",
       "    </tr>\n",
       "    <tr>\n",
       "      <td>1091</td>\n",
       "      <td>750632879</td>\n",
       "      <td>4256040402</td>\n",
       "      <td>2019-08-12</td>\n",
       "      <td>50</td>\n",
       "      <td>A</td>\n",
       "    </tr>\n",
       "    <tr>\n",
       "      <td>60</td>\n",
       "      <td>1421016313</td>\n",
       "      <td>4256040402</td>\n",
       "      <td>2019-08-16</td>\n",
       "      <td>56650</td>\n",
       "      <td>B</td>\n",
       "    </tr>\n",
       "    <tr>\n",
       "      <td>187</td>\n",
       "      <td>2048878902</td>\n",
       "      <td>4256040402</td>\n",
       "      <td>2019-08-17</td>\n",
       "      <td>1550</td>\n",
       "      <td>A</td>\n",
       "    </tr>\n",
       "    <tr>\n",
       "      <td>263</td>\n",
       "      <td>2575861846</td>\n",
       "      <td>4256040402</td>\n",
       "      <td>2019-08-18</td>\n",
       "      <td>10970</td>\n",
       "      <td>B</td>\n",
       "    </tr>\n",
       "    <tr>\n",
       "      <td>588</td>\n",
       "      <td>3700356838</td>\n",
       "      <td>4256040402</td>\n",
       "      <td>2019-08-20</td>\n",
       "      <td>17650</td>\n",
       "      <td>A</td>\n",
       "    </tr>\n",
       "    <tr>\n",
       "      <td>253</td>\n",
       "      <td>1610091760</td>\n",
       "      <td>4256040402</td>\n",
       "      <td>2019-08-23</td>\n",
       "      <td>16950</td>\n",
       "      <td>A</td>\n",
       "    </tr>\n",
       "    <tr>\n",
       "      <td>901</td>\n",
       "      <td>3402467119</td>\n",
       "      <td>4256040402</td>\n",
       "      <td>2019-08-27</td>\n",
       "      <td>1630</td>\n",
       "      <td>A</td>\n",
       "    </tr>\n",
       "    <tr>\n",
       "      <td>1018</td>\n",
       "      <td>1415970216</td>\n",
       "      <td>4256040402</td>\n",
       "      <td>2019-08-31</td>\n",
       "      <td>5170</td>\n",
       "      <td>A</td>\n",
       "    </tr>\n",
       "    <tr>\n",
       "      <td>1019</td>\n",
       "      <td>453824282</td>\n",
       "      <td>4256040402</td>\n",
       "      <td>2019-08-31</td>\n",
       "      <td>1850</td>\n",
       "      <td>B</td>\n",
       "    </tr>\n",
       "  </tbody>\n",
       "</table>\n",
       "</div>"
      ],
      "text/plain": [
       "      transactionId   visitorId       date  revenue group\n",
       "114      1120327437  4256040402 2019-08-01     5800     A\n",
       "873      2519737434  4256040402 2019-08-08    58220     B\n",
       "1091      750632879  4256040402 2019-08-12       50     A\n",
       "60       1421016313  4256040402 2019-08-16    56650     B\n",
       "187      2048878902  4256040402 2019-08-17     1550     A\n",
       "263      2575861846  4256040402 2019-08-18    10970     B\n",
       "588      3700356838  4256040402 2019-08-20    17650     A\n",
       "253      1610091760  4256040402 2019-08-23    16950     A\n",
       "901      3402467119  4256040402 2019-08-27     1630     A\n",
       "1018     1415970216  4256040402 2019-08-31     5170     A\n",
       "1019      453824282  4256040402 2019-08-31     1850     B"
      ]
     },
     "execution_count": 9,
     "metadata": {},
     "output_type": "execute_result"
    }
   ],
   "source": [
    "orders[orders['visitorId'] == 4256040402].sort_values(by = 'date')"
   ]
  },
  {
   "cell_type": "markdown",
   "metadata": {},
   "source": [
    "Одни и те же пользователи, совершавшие покупки в разных группах, серьезно исказят результаты последующего анализа. Вряд ли их удаление значительно увеличит ценность теста, но по меньшей мере данные будут соответствовать условиям успешного A/B-тестирования. Создается новый датасет, не содержащий записи о покупках пользователей обоих групп.  "
   ]
  },
  {
   "cell_type": "code",
   "execution_count": 10,
   "metadata": {},
   "outputs": [
    {
     "name": "stdout",
     "output_type": "stream",
     "text": [
      "<class 'pandas.core.frame.DataFrame'>\n",
      "Int64Index: 1016 entries, 0 to 1196\n",
      "Data columns (total 5 columns):\n",
      "transactionId    1016 non-null int64\n",
      "visitorId        1016 non-null int64\n",
      "date             1016 non-null datetime64[ns]\n",
      "revenue          1016 non-null int64\n",
      "group            1016 non-null object\n",
      "dtypes: datetime64[ns](1), int64(3), object(1)\n",
      "memory usage: 47.6+ KB\n",
      "\n",
      "Потеряно 181 записи(ей)\n"
     ]
    }
   ],
   "source": [
    "orders_proved = orders[~orders['visitorId'].isin(A_buyer[A_buyer.isin(B_buyer)])]\n",
    "orders_proved.info()\n",
    "print()\n",
    "print('Потеряно', orders.shape[0] - orders_proved.shape[0],'записи(ей)')"
   ]
  },
  {
   "cell_type": "markdown",
   "metadata": {},
   "source": [
    "## Приоритезация гипотез\n",
    "### Фреймворк ICE "
   ]
  },
  {
   "cell_type": "code",
   "execution_count": 11,
   "metadata": {},
   "outputs": [
    {
     "data": {
      "text/html": [
       "<div>\n",
       "<style scoped>\n",
       "    .dataframe tbody tr th:only-of-type {\n",
       "        vertical-align: middle;\n",
       "    }\n",
       "\n",
       "    .dataframe tbody tr th {\n",
       "        vertical-align: top;\n",
       "    }\n",
       "\n",
       "    .dataframe thead th {\n",
       "        text-align: right;\n",
       "    }\n",
       "</style>\n",
       "<table border=\"1\" class=\"dataframe\">\n",
       "  <thead>\n",
       "    <tr style=\"text-align: right;\">\n",
       "      <th></th>\n",
       "      <th>index</th>\n",
       "      <th>Hypothesis</th>\n",
       "      <th>ICE_score</th>\n",
       "    </tr>\n",
       "  </thead>\n",
       "  <tbody>\n",
       "    <tr>\n",
       "      <td>0</td>\n",
       "      <td>8</td>\n",
       "      <td>Запустить акцию, дающую скидку на товар в день рождения</td>\n",
       "      <td>16.2</td>\n",
       "    </tr>\n",
       "    <tr>\n",
       "      <td>1</td>\n",
       "      <td>0</td>\n",
       "      <td>Добавить два новых канала привлечения трафика, что позволит привлекать на 30% больше пользователей</td>\n",
       "      <td>13.3</td>\n",
       "    </tr>\n",
       "    <tr>\n",
       "      <td>2</td>\n",
       "      <td>7</td>\n",
       "      <td>Добавить форму подписки на все основные страницы, чтобы собрать базу клиентов для email-рассылок</td>\n",
       "      <td>11.2</td>\n",
       "    </tr>\n",
       "    <tr>\n",
       "      <td>3</td>\n",
       "      <td>6</td>\n",
       "      <td>Показать на главной странице баннеры с актуальными акциями и распродажами, чтобы увеличить конве...</td>\n",
       "      <td>8.0</td>\n",
       "    </tr>\n",
       "    <tr>\n",
       "      <td>4</td>\n",
       "      <td>2</td>\n",
       "      <td>Добавить блоки рекомендаций товаров на сайт интернет магазина, чтобы повысить конверсию и средни...</td>\n",
       "      <td>7.0</td>\n",
       "    </tr>\n",
       "    <tr>\n",
       "      <td>5</td>\n",
       "      <td>1</td>\n",
       "      <td>Запустить собственную службу доставки, что сократит срок доставки заказов</td>\n",
       "      <td>2.0</td>\n",
       "    </tr>\n",
       "    <tr>\n",
       "      <td>6</td>\n",
       "      <td>5</td>\n",
       "      <td>Добавить страницу отзывов клиентов о магазине, что позволит увеличить количество заказов</td>\n",
       "      <td>1.3</td>\n",
       "    </tr>\n",
       "    <tr>\n",
       "      <td>7</td>\n",
       "      <td>3</td>\n",
       "      <td>Изменить структура категорий, что увеличит конверсию, т.к. пользователи быстрее найдут нужный товар</td>\n",
       "      <td>1.1</td>\n",
       "    </tr>\n",
       "    <tr>\n",
       "      <td>8</td>\n",
       "      <td>4</td>\n",
       "      <td>Изменить цвет фона главной страницы, чтобы увеличить вовлеченность пользователей</td>\n",
       "      <td>1.0</td>\n",
       "    </tr>\n",
       "  </tbody>\n",
       "</table>\n",
       "</div>"
      ],
      "text/plain": [
       "   index  \\\n",
       "0      8   \n",
       "1      0   \n",
       "2      7   \n",
       "3      6   \n",
       "4      2   \n",
       "5      1   \n",
       "6      5   \n",
       "7      3   \n",
       "8      4   \n",
       "\n",
       "                                                                                            Hypothesis  \\\n",
       "0                                              Запустить акцию, дающую скидку на товар в день рождения   \n",
       "1   Добавить два новых канала привлечения трафика, что позволит привлекать на 30% больше пользователей   \n",
       "2     Добавить форму подписки на все основные страницы, чтобы собрать базу клиентов для email-рассылок   \n",
       "3  Показать на главной странице баннеры с актуальными акциями и распродажами, чтобы увеличить конве...   \n",
       "4  Добавить блоки рекомендаций товаров на сайт интернет магазина, чтобы повысить конверсию и средни...   \n",
       "5                            Запустить собственную службу доставки, что сократит срок доставки заказов   \n",
       "6             Добавить страницу отзывов клиентов о магазине, что позволит увеличить количество заказов   \n",
       "7  Изменить структура категорий, что увеличит конверсию, т.к. пользователи быстрее найдут нужный товар   \n",
       "8                     Изменить цвет фона главной страницы, чтобы увеличить вовлеченность пользователей   \n",
       "\n",
       "   ICE_score  \n",
       "0       16.2  \n",
       "1       13.3  \n",
       "2       11.2  \n",
       "3        8.0  \n",
       "4        7.0  \n",
       "5        2.0  \n",
       "6        1.3  \n",
       "7        1.1  \n",
       "8        1.0  "
      ]
     },
     "execution_count": 11,
     "metadata": {},
     "output_type": "execute_result"
    }
   ],
   "source": [
    "# ICE_score = Impact x Confidence x Ease; Ease = 1 / Efforts\n",
    "hypo['ICE_score'] = (hypo['Impact'] * hypo['Confidence'] / hypo['Efforts']).round(1) \n",
    "hypo[['Hypothesis','ICE_score']].sort_values(by = 'ICE_score', ascending = False).reset_index()"
   ]
  },
  {
   "cell_type": "markdown",
   "metadata": {},
   "source": [
    "Без учета охватываемой аудитории гипотеза о введении акции ко дню рождения лидирует в приоритетном списке. В первой тройке также организация 2 новых каналов и добавление формы подписки.\n",
    "В масс-маркетинге важно учитывать кол-во аудитории ее охват предполагаемым изменением. Требуется рассчитать показатель RICE\n",
    "### Фреймворк RICE"
   ]
  },
  {
   "cell_type": "code",
   "execution_count": 12,
   "metadata": {},
   "outputs": [
    {
     "data": {
      "text/html": [
       "<div>\n",
       "<style scoped>\n",
       "    .dataframe tbody tr th:only-of-type {\n",
       "        vertical-align: middle;\n",
       "    }\n",
       "\n",
       "    .dataframe tbody tr th {\n",
       "        vertical-align: top;\n",
       "    }\n",
       "\n",
       "    .dataframe thead th {\n",
       "        text-align: right;\n",
       "    }\n",
       "</style>\n",
       "<table border=\"1\" class=\"dataframe\">\n",
       "  <thead>\n",
       "    <tr style=\"text-align: right;\">\n",
       "      <th></th>\n",
       "      <th>index</th>\n",
       "      <th>Hypothesis</th>\n",
       "      <th>RICE_score</th>\n",
       "    </tr>\n",
       "  </thead>\n",
       "  <tbody>\n",
       "    <tr>\n",
       "      <td>0</td>\n",
       "      <td>7</td>\n",
       "      <td>Добавить форму подписки на все основные страницы, чтобы собрать базу клиентов для email-рассылок</td>\n",
       "      <td>112.0</td>\n",
       "    </tr>\n",
       "    <tr>\n",
       "      <td>1</td>\n",
       "      <td>2</td>\n",
       "      <td>Добавить блоки рекомендаций товаров на сайт интернет магазина, чтобы повысить конверсию и средни...</td>\n",
       "      <td>56.0</td>\n",
       "    </tr>\n",
       "    <tr>\n",
       "      <td>2</td>\n",
       "      <td>0</td>\n",
       "      <td>Добавить два новых канала привлечения трафика, что позволит привлекать на 30% больше пользователей</td>\n",
       "      <td>40.0</td>\n",
       "    </tr>\n",
       "    <tr>\n",
       "      <td>3</td>\n",
       "      <td>6</td>\n",
       "      <td>Показать на главной странице баннеры с актуальными акциями и распродажами, чтобы увеличить конве...</td>\n",
       "      <td>40.0</td>\n",
       "    </tr>\n",
       "    <tr>\n",
       "      <td>4</td>\n",
       "      <td>8</td>\n",
       "      <td>Запустить акцию, дающую скидку на товар в день рождения</td>\n",
       "      <td>16.2</td>\n",
       "    </tr>\n",
       "    <tr>\n",
       "      <td>5</td>\n",
       "      <td>3</td>\n",
       "      <td>Изменить структура категорий, что увеличит конверсию, т.к. пользователи быстрее найдут нужный товар</td>\n",
       "      <td>9.0</td>\n",
       "    </tr>\n",
       "    <tr>\n",
       "      <td>6</td>\n",
       "      <td>1</td>\n",
       "      <td>Запустить собственную службу доставки, что сократит срок доставки заказов</td>\n",
       "      <td>4.0</td>\n",
       "    </tr>\n",
       "    <tr>\n",
       "      <td>7</td>\n",
       "      <td>5</td>\n",
       "      <td>Добавить страницу отзывов клиентов о магазине, что позволит увеличить количество заказов</td>\n",
       "      <td>4.0</td>\n",
       "    </tr>\n",
       "    <tr>\n",
       "      <td>8</td>\n",
       "      <td>4</td>\n",
       "      <td>Изменить цвет фона главной страницы, чтобы увеличить вовлеченность пользователей</td>\n",
       "      <td>3.0</td>\n",
       "    </tr>\n",
       "  </tbody>\n",
       "</table>\n",
       "</div>"
      ],
      "text/plain": [
       "   index  \\\n",
       "0      7   \n",
       "1      2   \n",
       "2      0   \n",
       "3      6   \n",
       "4      8   \n",
       "5      3   \n",
       "6      1   \n",
       "7      5   \n",
       "8      4   \n",
       "\n",
       "                                                                                            Hypothesis  \\\n",
       "0     Добавить форму подписки на все основные страницы, чтобы собрать базу клиентов для email-рассылок   \n",
       "1  Добавить блоки рекомендаций товаров на сайт интернет магазина, чтобы повысить конверсию и средни...   \n",
       "2   Добавить два новых канала привлечения трафика, что позволит привлекать на 30% больше пользователей   \n",
       "3  Показать на главной странице баннеры с актуальными акциями и распродажами, чтобы увеличить конве...   \n",
       "4                                              Запустить акцию, дающую скидку на товар в день рождения   \n",
       "5  Изменить структура категорий, что увеличит конверсию, т.к. пользователи быстрее найдут нужный товар   \n",
       "6                            Запустить собственную службу доставки, что сократит срок доставки заказов   \n",
       "7             Добавить страницу отзывов клиентов о магазине, что позволит увеличить количество заказов   \n",
       "8                     Изменить цвет фона главной страницы, чтобы увеличить вовлеченность пользователей   \n",
       "\n",
       "   RICE_score  \n",
       "0       112.0  \n",
       "1        56.0  \n",
       "2        40.0  \n",
       "3        40.0  \n",
       "4        16.2  \n",
       "5         9.0  \n",
       "6         4.0  \n",
       "7         4.0  \n",
       "8         3.0  "
      ]
     },
     "execution_count": 12,
     "metadata": {},
     "output_type": "execute_result"
    }
   ],
   "source": [
    "# RICE_score = (Reach x Impact x Confidence) / Efforts\n",
    "hypo['RICE_score'] = (hypo['Reach'] * hypo['Impact'] * hypo['Confidence']) / hypo['Efforts']\n",
    "hypo[['Hypothesis','RICE_score']].sort_values(by = 'RICE_score', ascending = False).reset_index() "
   ]
  },
  {
   "cell_type": "markdown",
   "metadata": {},
   "source": [
    "С учетом охвата аудитории сайта, поменялось положение гипотез в приоритетном списке. Значительно превосходит остальные гипотеза о добавлении формы подписки на все основные страницы сайта. Эта же гипотеза было в списке 3 лучших гипотез по подсчету в фреймворке ICE.\n",
    "### Выводы\n",
    "С учетом аудитории, наиболее приоритетной для проведения A/B-теста в результате оценки является гипотеза \"Добавить форму подписки на основные страницы, чтобы собрать базу клиентов для e-mail-рассылок\", однако ее формулировка некорректна, так как отсутствует описание ожидаемого результата - увеличение конверсии/среднего чека/и т.д, поэтому выбирается другая гипотеза, а именно:\n",
    "\n",
    "<font color='green'><b>Увеличение конверсии и среднего чека в результате добавления блоков рекомендаций</b></font>\n",
    "\n",
    "## Анализ A/B-теста\n",
    "### Подготовка данных"
   ]
  },
  {
   "cell_type": "code",
   "execution_count": 13,
   "metadata": {},
   "outputs": [],
   "source": [
    "# посетители: деление по группам\n",
    "visitors_A_daily = visitors[visitors['group'] == 'A'][['date','visitors']]\n",
    "visitors_B_daily = visitors[visitors['group'] == 'B'][['date','visitors']]\n",
    "\n",
    "# переименование столбцов\n",
    "visitors_A_daily.columns = ['date','A_visitors']\n",
    "visitors_B_daily.columns = ['date','B_visitors']\n",
    "\n",
    "# кумулятивные данные по посещениям\n",
    "visitors_A_cumm = visitors_A_daily.apply(\n",
    "    lambda x: visitors_A_daily[visitors_A_daily['date'] < x['date']].agg({\n",
    "        'date':'max',\n",
    "        'A_visitors':'sum'\n",
    "    }), axis = 1)\n",
    "\n",
    "visitors_B_cumm = visitors_B_daily.apply(\n",
    "    lambda x: visitors_B_daily[visitors_B_daily['date'] < x['date']].agg({\n",
    "        'date':'max',\n",
    "        'B_visitors':'sum'\n",
    "    }), axis = 1    \n",
    ")\n",
    "\n",
    "# переименование столбцов\n",
    "visitors_A_cumm.columns = ['date','cumm_A_visitors']\n",
    "visitors_B_cumm.columns = ['date','cumm_B_visitors']"
   ]
  },
  {
   "cell_type": "code",
   "execution_count": 14,
   "metadata": {},
   "outputs": [
    {
     "data": {
      "text/html": [
       "<div>\n",
       "<style scoped>\n",
       "    .dataframe tbody tr th:only-of-type {\n",
       "        vertical-align: middle;\n",
       "    }\n",
       "\n",
       "    .dataframe tbody tr th {\n",
       "        vertical-align: top;\n",
       "    }\n",
       "\n",
       "    .dataframe thead th {\n",
       "        text-align: right;\n",
       "    }\n",
       "</style>\n",
       "<table border=\"1\" class=\"dataframe\">\n",
       "  <thead>\n",
       "    <tr style=\"text-align: right;\">\n",
       "      <th></th>\n",
       "      <th>date</th>\n",
       "      <th>cumm_A_visitors</th>\n",
       "    </tr>\n",
       "  </thead>\n",
       "  <tbody>\n",
       "    <tr>\n",
       "      <td>0</td>\n",
       "      <td>NaT</td>\n",
       "      <td>0</td>\n",
       "    </tr>\n",
       "    <tr>\n",
       "      <td>1</td>\n",
       "      <td>2019-08-01</td>\n",
       "      <td>719</td>\n",
       "    </tr>\n",
       "    <tr>\n",
       "      <td>2</td>\n",
       "      <td>2019-08-02</td>\n",
       "      <td>1338</td>\n",
       "    </tr>\n",
       "    <tr>\n",
       "      <td>3</td>\n",
       "      <td>2019-08-03</td>\n",
       "      <td>1845</td>\n",
       "    </tr>\n",
       "    <tr>\n",
       "      <td>4</td>\n",
       "      <td>2019-08-04</td>\n",
       "      <td>2562</td>\n",
       "    </tr>\n",
       "    <tr>\n",
       "      <td>5</td>\n",
       "      <td>2019-08-05</td>\n",
       "      <td>3318</td>\n",
       "    </tr>\n",
       "    <tr>\n",
       "      <td>6</td>\n",
       "      <td>2019-08-06</td>\n",
       "      <td>3985</td>\n",
       "    </tr>\n",
       "  </tbody>\n",
       "</table>\n",
       "</div>"
      ],
      "text/plain": [
       "        date  cumm_A_visitors\n",
       "0        NaT                0\n",
       "1 2019-08-01              719\n",
       "2 2019-08-02             1338\n",
       "3 2019-08-03             1845\n",
       "4 2019-08-04             2562\n",
       "5 2019-08-05             3318\n",
       "6 2019-08-06             3985"
      ]
     },
     "execution_count": 14,
     "metadata": {},
     "output_type": "execute_result"
    }
   ],
   "source": [
    "visitors_A_cumm.head(7)"
   ]
  },
  {
   "cell_type": "code",
   "execution_count": 15,
   "metadata": {},
   "outputs": [],
   "source": [
    "# заказы: деление по группам\n",
    "orders_A_daily = orders_proved[orders_proved['group'] == 'A'].groupby(\n",
    "    'date', as_index = False).agg({\n",
    "    'transactionId':pd.Series.nunique,\n",
    "    'revenue':'sum'\n",
    "    })\n",
    "\n",
    "orders_B_daily = orders_proved[orders_proved['group'] == 'B'].groupby(\n",
    "    'date', as_index = False).agg({\n",
    "    'transactionId':pd.Series.nunique,\n",
    "    'revenue':'sum'\n",
    "})\n",
    "\n",
    "# переименование столбцов\n",
    "orders_A_daily.columns = ['date','A_orders_per_date','A_revenue_per_date']\n",
    "orders_B_daily.columns = ['date','B_orders_per_date','B_revenue_per_date']\n",
    "\n",
    "# кумулятивные данные по заказам\n",
    "orders_A_cumm = orders_A_daily.apply(lambda x:\n",
    "                                    orders_A_daily[orders_A_daily['date'] < x['date']].agg({\n",
    "    'date':'max',\n",
    "    'A_orders_per_date':'sum',\n",
    "    'A_revenue_per_date':'sum'\n",
    "}), axis = 1).sort_values('date')\n",
    "\n",
    "orders_B_cumm = orders_B_daily.apply(lambda x:\n",
    "                                    orders_B_daily[orders_B_daily['date'] < x['date']].agg({\n",
    "    'date':'max',\n",
    "    'B_orders_per_date':'sum',\n",
    "    'B_revenue_per_date':'sum'\n",
    "}), axis = 1).sort_values('date')\n",
    "\n",
    "# переименование столбцов\n",
    "\n",
    "orders_A_cumm.columns = ['date', 'A_orders_cumm', 'A_revenue_cumm']\n",
    "orders_B_cumm.columns = ['date', 'B_orders_cumm', 'B_revenue_cumm']"
   ]
  },
  {
   "cell_type": "code",
   "execution_count": 16,
   "metadata": {},
   "outputs": [
    {
     "data": {
      "text/html": [
       "<div>\n",
       "<style scoped>\n",
       "    .dataframe tbody tr th:only-of-type {\n",
       "        vertical-align: middle;\n",
       "    }\n",
       "\n",
       "    .dataframe tbody tr th {\n",
       "        vertical-align: top;\n",
       "    }\n",
       "\n",
       "    .dataframe thead th {\n",
       "        text-align: right;\n",
       "    }\n",
       "</style>\n",
       "<table border=\"1\" class=\"dataframe\">\n",
       "  <thead>\n",
       "    <tr style=\"text-align: right;\">\n",
       "      <th></th>\n",
       "      <th>date</th>\n",
       "      <th>A_orders_cumm</th>\n",
       "      <th>A_revenue_cumm</th>\n",
       "    </tr>\n",
       "  </thead>\n",
       "  <tbody>\n",
       "    <tr>\n",
       "      <td>1</td>\n",
       "      <td>2019-08-01</td>\n",
       "      <td>23</td>\n",
       "      <td>142779</td>\n",
       "    </tr>\n",
       "    <tr>\n",
       "      <td>2</td>\n",
       "      <td>2019-08-02</td>\n",
       "      <td>42</td>\n",
       "      <td>234381</td>\n",
       "    </tr>\n",
       "    <tr>\n",
       "      <td>3</td>\n",
       "      <td>2019-08-03</td>\n",
       "      <td>66</td>\n",
       "      <td>346854</td>\n",
       "    </tr>\n",
       "    <tr>\n",
       "      <td>4</td>\n",
       "      <td>2019-08-04</td>\n",
       "      <td>77</td>\n",
       "      <td>388030</td>\n",
       "    </tr>\n",
       "    <tr>\n",
       "      <td>5</td>\n",
       "      <td>2019-08-05</td>\n",
       "      <td>99</td>\n",
       "      <td>474413</td>\n",
       "    </tr>\n",
       "    <tr>\n",
       "      <td>6</td>\n",
       "      <td>2019-08-06</td>\n",
       "      <td>114</td>\n",
       "      <td>515332</td>\n",
       "    </tr>\n",
       "    <tr>\n",
       "      <td>7</td>\n",
       "      <td>2019-08-07</td>\n",
       "      <td>130</td>\n",
       "      <td>638580</td>\n",
       "    </tr>\n",
       "  </tbody>\n",
       "</table>\n",
       "</div>"
      ],
      "text/plain": [
       "        date  A_orders_cumm  A_revenue_cumm\n",
       "1 2019-08-01             23          142779\n",
       "2 2019-08-02             42          234381\n",
       "3 2019-08-03             66          346854\n",
       "4 2019-08-04             77          388030\n",
       "5 2019-08-05             99          474413\n",
       "6 2019-08-06            114          515332\n",
       "7 2019-08-07            130          638580"
      ]
     },
     "execution_count": 16,
     "metadata": {},
     "output_type": "execute_result"
    }
   ],
   "source": [
    "orders_A_cumm.head(7)"
   ]
  },
  {
   "cell_type": "code",
   "execution_count": 17,
   "metadata": {},
   "outputs": [
    {
     "data": {
      "text/html": [
       "<div>\n",
       "<style scoped>\n",
       "    .dataframe tbody tr th:only-of-type {\n",
       "        vertical-align: middle;\n",
       "    }\n",
       "\n",
       "    .dataframe tbody tr th {\n",
       "        vertical-align: top;\n",
       "    }\n",
       "\n",
       "    .dataframe thead th {\n",
       "        text-align: right;\n",
       "    }\n",
       "</style>\n",
       "<table border=\"1\" class=\"dataframe\">\n",
       "  <thead>\n",
       "    <tr style=\"text-align: right;\">\n",
       "      <th></th>\n",
       "      <th>date</th>\n",
       "      <th>A_orders_per_date</th>\n",
       "      <th>A_revenue_per_date</th>\n",
       "    </tr>\n",
       "  </thead>\n",
       "  <tbody>\n",
       "    <tr>\n",
       "      <td>0</td>\n",
       "      <td>2019-08-01</td>\n",
       "      <td>23</td>\n",
       "      <td>142779</td>\n",
       "    </tr>\n",
       "    <tr>\n",
       "      <td>1</td>\n",
       "      <td>2019-08-02</td>\n",
       "      <td>19</td>\n",
       "      <td>91602</td>\n",
       "    </tr>\n",
       "    <tr>\n",
       "      <td>2</td>\n",
       "      <td>2019-08-03</td>\n",
       "      <td>24</td>\n",
       "      <td>112473</td>\n",
       "    </tr>\n",
       "    <tr>\n",
       "      <td>3</td>\n",
       "      <td>2019-08-04</td>\n",
       "      <td>11</td>\n",
       "      <td>41176</td>\n",
       "    </tr>\n",
       "    <tr>\n",
       "      <td>4</td>\n",
       "      <td>2019-08-05</td>\n",
       "      <td>22</td>\n",
       "      <td>86383</td>\n",
       "    </tr>\n",
       "    <tr>\n",
       "      <td>5</td>\n",
       "      <td>2019-08-06</td>\n",
       "      <td>15</td>\n",
       "      <td>40919</td>\n",
       "    </tr>\n",
       "    <tr>\n",
       "      <td>6</td>\n",
       "      <td>2019-08-07</td>\n",
       "      <td>16</td>\n",
       "      <td>123248</td>\n",
       "    </tr>\n",
       "  </tbody>\n",
       "</table>\n",
       "</div>"
      ],
      "text/plain": [
       "        date  A_orders_per_date  A_revenue_per_date\n",
       "0 2019-08-01                 23              142779\n",
       "1 2019-08-02                 19               91602\n",
       "2 2019-08-03                 24              112473\n",
       "3 2019-08-04                 11               41176\n",
       "4 2019-08-05                 22               86383\n",
       "5 2019-08-06                 15               40919\n",
       "6 2019-08-07                 16              123248"
      ]
     },
     "execution_count": 17,
     "metadata": {},
     "output_type": "execute_result"
    }
   ],
   "source": [
    "orders_A_daily.head(7)"
   ]
  },
  {
   "cell_type": "code",
   "execution_count": 18,
   "metadata": {
    "scrolled": true
   },
   "outputs": [
    {
     "data": {
      "text/html": [
       "<div>\n",
       "<style scoped>\n",
       "    .dataframe tbody tr th:only-of-type {\n",
       "        vertical-align: middle;\n",
       "    }\n",
       "\n",
       "    .dataframe tbody tr th {\n",
       "        vertical-align: top;\n",
       "    }\n",
       "\n",
       "    .dataframe thead th {\n",
       "        text-align: right;\n",
       "    }\n",
       "</style>\n",
       "<table border=\"1\" class=\"dataframe\">\n",
       "  <thead>\n",
       "    <tr style=\"text-align: right;\">\n",
       "      <th></th>\n",
       "      <th>date</th>\n",
       "      <th>A_orders_per_date</th>\n",
       "      <th>A_revenue_per_date</th>\n",
       "      <th>B_orders_per_date</th>\n",
       "      <th>B_revenue_per_date</th>\n",
       "      <th>A_orders_cumm</th>\n",
       "      <th>A_revenue_cumm</th>\n",
       "      <th>B_orders_cumm</th>\n",
       "      <th>B_revenue_cumm</th>\n",
       "      <th>A_visitors</th>\n",
       "      <th>B_visitors</th>\n",
       "      <th>cumm_A_visitors</th>\n",
       "      <th>cumm_B_visitors</th>\n",
       "      <th>date_m_d</th>\n",
       "    </tr>\n",
       "  </thead>\n",
       "  <tbody>\n",
       "    <tr>\n",
       "      <td>0</td>\n",
       "      <td>2019-08-01</td>\n",
       "      <td>23</td>\n",
       "      <td>142779</td>\n",
       "      <td>17</td>\n",
       "      <td>59758</td>\n",
       "      <td>23.0</td>\n",
       "      <td>142779.0</td>\n",
       "      <td>17.0</td>\n",
       "      <td>59758.0</td>\n",
       "      <td>719</td>\n",
       "      <td>713</td>\n",
       "      <td>719.0</td>\n",
       "      <td>713.0</td>\n",
       "      <td>01-08</td>\n",
       "    </tr>\n",
       "    <tr>\n",
       "      <td>1</td>\n",
       "      <td>2019-08-02</td>\n",
       "      <td>19</td>\n",
       "      <td>91602</td>\n",
       "      <td>23</td>\n",
       "      <td>162043</td>\n",
       "      <td>42.0</td>\n",
       "      <td>234381.0</td>\n",
       "      <td>40.0</td>\n",
       "      <td>221801.0</td>\n",
       "      <td>619</td>\n",
       "      <td>581</td>\n",
       "      <td>1338.0</td>\n",
       "      <td>1294.0</td>\n",
       "      <td>02-08</td>\n",
       "    </tr>\n",
       "    <tr>\n",
       "      <td>2</td>\n",
       "      <td>2019-08-03</td>\n",
       "      <td>24</td>\n",
       "      <td>112473</td>\n",
       "      <td>14</td>\n",
       "      <td>67049</td>\n",
       "      <td>66.0</td>\n",
       "      <td>346854.0</td>\n",
       "      <td>54.0</td>\n",
       "      <td>288850.0</td>\n",
       "      <td>507</td>\n",
       "      <td>509</td>\n",
       "      <td>1845.0</td>\n",
       "      <td>1803.0</td>\n",
       "      <td>03-08</td>\n",
       "    </tr>\n",
       "    <tr>\n",
       "      <td>3</td>\n",
       "      <td>2019-08-04</td>\n",
       "      <td>11</td>\n",
       "      <td>41176</td>\n",
       "      <td>14</td>\n",
       "      <td>96890</td>\n",
       "      <td>77.0</td>\n",
       "      <td>388030.0</td>\n",
       "      <td>68.0</td>\n",
       "      <td>385740.0</td>\n",
       "      <td>717</td>\n",
       "      <td>770</td>\n",
       "      <td>2562.0</td>\n",
       "      <td>2573.0</td>\n",
       "      <td>04-08</td>\n",
       "    </tr>\n",
       "    <tr>\n",
       "      <td>4</td>\n",
       "      <td>2019-08-05</td>\n",
       "      <td>22</td>\n",
       "      <td>86383</td>\n",
       "      <td>21</td>\n",
       "      <td>89908</td>\n",
       "      <td>99.0</td>\n",
       "      <td>474413.0</td>\n",
       "      <td>89.0</td>\n",
       "      <td>475648.0</td>\n",
       "      <td>756</td>\n",
       "      <td>707</td>\n",
       "      <td>3318.0</td>\n",
       "      <td>3280.0</td>\n",
       "      <td>05-08</td>\n",
       "    </tr>\n",
       "  </tbody>\n",
       "</table>\n",
       "</div>"
      ],
      "text/plain": [
       "        date  A_orders_per_date  A_revenue_per_date  B_orders_per_date  \\\n",
       "0 2019-08-01                 23              142779                 17   \n",
       "1 2019-08-02                 19               91602                 23   \n",
       "2 2019-08-03                 24              112473                 14   \n",
       "3 2019-08-04                 11               41176                 14   \n",
       "4 2019-08-05                 22               86383                 21   \n",
       "\n",
       "   B_revenue_per_date  A_orders_cumm  A_revenue_cumm  B_orders_cumm  \\\n",
       "0               59758           23.0        142779.0           17.0   \n",
       "1              162043           42.0        234381.0           40.0   \n",
       "2               67049           66.0        346854.0           54.0   \n",
       "3               96890           77.0        388030.0           68.0   \n",
       "4               89908           99.0        474413.0           89.0   \n",
       "\n",
       "   B_revenue_cumm  A_visitors  B_visitors  cumm_A_visitors  cumm_B_visitors  \\\n",
       "0         59758.0         719         713            719.0            713.0   \n",
       "1        221801.0         619         581           1338.0           1294.0   \n",
       "2        288850.0         507         509           1845.0           1803.0   \n",
       "3        385740.0         717         770           2562.0           2573.0   \n",
       "4        475648.0         756         707           3318.0           3280.0   \n",
       "\n",
       "  date_m_d  \n",
       "0    01-08  \n",
       "1    02-08  \n",
       "2    03-08  \n",
       "3    04-08  \n",
       "4    05-08  "
      ]
     },
     "execution_count": 18,
     "metadata": {},
     "output_type": "execute_result"
    }
   ],
   "source": [
    "data = orders_A_daily.merge(orders_B_daily, on = 'date', how = 'left' ).merge(\n",
    "    orders_A_cumm, on = 'date', how = 'left').merge(\n",
    "    orders_B_cumm, on = 'date', how = 'left').merge(\n",
    "    visitors_A_daily, on = 'date', how = 'left').merge(\n",
    "    visitors_B_daily, on = 'date', how = 'left').merge(\n",
    "    visitors_A_cumm, on = 'date', how = 'left').merge(\n",
    "    visitors_B_cumm, on = 'date', how = 'left')\n",
    "data['date_m_d'] = data['date'].dt.strftime('%d-%m')\n",
    "data.head(5)"
   ]
  },
  {
   "cell_type": "markdown",
   "metadata": {},
   "source": [
    "### Кумулятивная выручка по группам"
   ]
  },
  {
   "cell_type": "code",
   "execution_count": 19,
   "metadata": {},
   "outputs": [
    {
     "data": {
      "image/png": "[encoded data removed]",
      "text/plain": [
       "<Figure size 720x360 with 1 Axes>"
      ]
     },
     "metadata": {
      "needs_background": "light"
     },
     "output_type": "display_data"
    }
   ],
   "source": [
    "data.plot(\n",
    "    x = 'date_m_d',\n",
    "    y = ['A_revenue_cumm','B_revenue_cumm'],\n",
    "    grid = True,\n",
    "    legend = True,\n",
    "    title = 'Кумулятивная выручка групп А и B',\n",
    "    figsize=(10,5)\n",
    ")\n",
    "plt.xlabel('Дата')\n",
    "plt.ylabel('Выручка');"
   ]
  },
  {
   "cell_type": "markdown",
   "metadata": {},
   "source": [
    "В первую неделю августа кумулятивная выручка обеих групп находилась практически на одном уровне. Уже к концу первой недели наметились преобладание выручки группы B над группой А. Значительное расхождение оформилось середине первой - начале второй декады августа, а 19 августа отрыв группы B значительно увеличился за счет одной аномальной покупки.\n",
    "\n",
    "Для корректной оценки покупка 19 августа должна быть отфильтрована.\n",
    "### График кумулятивного среднего чека"
   ]
  },
  {
   "cell_type": "code",
   "execution_count": 20,
   "metadata": {},
   "outputs": [
    {
     "data": {
      "text/plain": [
       "Text(0.5, 0, 'Дата')"
      ]
     },
     "execution_count": 20,
     "metadata": {},
     "output_type": "execute_result"
    },
    {
     "data": {
      "image/png": "[encoded data removed]",
      "text/plain": [
       "<Figure size 720x360 with 1 Axes>"
      ]
     },
     "metadata": {
      "needs_background": "light"
     },
     "output_type": "display_data"
    }
   ],
   "source": [
    "data['A_revenue_per_user_cumm'] = data['A_revenue_cumm'] / data['A_orders_cumm']\n",
    "data['B_revenue_per_user_cumm'] = data['B_revenue_cumm'] / data['B_orders_cumm']\n",
    "data.plot(\n",
    "    x = 'date_m_d',\n",
    "    y = ['A_revenue_per_user_cumm','B_revenue_per_user_cumm'],\n",
    "    grid = True,\n",
    "    legend = True,\n",
    "    title = 'Кумулятивный средний чек в группах А и В',\n",
    "    figsize = (10,5)\n",
    "    );\n",
    "plt.ylabel('Средний чека, руб')\n",
    "plt.xlabel('Дата')"
   ]
  },
  {
   "cell_type": "markdown",
   "metadata": {},
   "source": [
    "Аналогично ситуации на графике кумулятивной выручки, на графике кумулятивного среднего чека наблюдяется резкий рост значения 19 августа в группе B. К концу месяца средний чек в группе B несколько уменьшился, но оставался значительно большим, чем в группе A. \n",
    "\n",
    "В конце месяца метрики не подвергаются значительным колебаниям, как в начале месяца.\n",
    "### График кумулятивного среднего чека группы B к чеку группы A"
   ]
  },
  {
   "cell_type": "code",
   "execution_count": 21,
   "metadata": {},
   "outputs": [
    {
     "data": {
      "image/png": "[encoded data removed]",
      "text/plain": [
       "<Figure size 720x360 with 1 Axes>"
      ]
     },
     "metadata": {
      "needs_background": "light"
     },
     "output_type": "display_data"
    }
   ],
   "source": [
    "data['BvsA_revenue_per_user_cumm'] = (\n",
    "    data['B_revenue_per_user_cumm'] / data['A_revenue_per_user_cumm']) - 1\n",
    "data.plot(\n",
    "    x = 'date_m_d',\n",
    "    y = 'BvsA_revenue_per_user_cumm',\n",
    "    grid = True,\n",
    "    legend = False,\n",
    "    title = 'Изменение кумулятивного среднего чека группы В к чеку группы А',\n",
    "    figsize = (10,5)\n",
    ")\n",
    "plt.axhline(y = 0, color = 'blue', linestyle = '--')\n",
    "plt.ylabel('Относительное изменение')\n",
    "plt.xlabel('Дата');"
   ]
  },
  {
   "cell_type": "markdown",
   "metadata": {},
   "source": [
    "Относительное значение среднего чека группы B к чеку группы A в первой половине месяца подвержено серьезным колебаниям. Аномальная покупка 19 августа также отразилась и на этом графике. Без учета этой покупки, вероятно, к концу месяца средний чек группы B был бы ниже среднего чека группы A, так как после 19 августа наблюдается тенденция к снижению значения.\n",
    "### График кумулятивной конверсии по группам"
   ]
  },
  {
   "cell_type": "code",
   "execution_count": 22,
   "metadata": {},
   "outputs": [
    {
     "data": {
      "image/png": "[encoded data removed]",
      "text/plain": [
       "<Figure size 720x360 with 1 Axes>"
      ]
     },
     "metadata": {
      "needs_background": "light"
     },
     "output_type": "display_data"
    }
   ],
   "source": [
    "data['A_convertion_cumm'] = data['A_orders_cumm'] / data['cumm_A_visitors']\n",
    "data['B_convertion_cumm'] = data['B_orders_cumm'] / data['cumm_B_visitors']\n",
    "data.plot(\n",
    "    x = 'date_m_d',\n",
    "    y = ['A_convertion_cumm','B_convertion_cumm'],\n",
    "    grid = True,\n",
    "    legend = True,\n",
    "    figsize = (10,5),\n",
    "    title = 'Кумулятивная конверсия в группах A и B'\n",
    ")\n",
    "plt.ylabel('Конверсия')\n",
    "plt.xlabel('Дата');"
   ]
  },
  {
   "cell_type": "markdown",
   "metadata": {},
   "source": [
    "К концу месяца показатели стабилизировались. Конверсия в группе B больше примерно на 0,3 %\n",
    "### График отн. изменения кумулятивной конверсии группы B к конверсии А"
   ]
  },
  {
   "cell_type": "code",
   "execution_count": 23,
   "metadata": {},
   "outputs": [
    {
     "data": {
      "image/png": "[encoded data removed]",
      "text/plain": [
       "<Figure size 720x360 with 1 Axes>"
      ]
     },
     "metadata": {
      "needs_background": "light"
     },
     "output_type": "display_data"
    }
   ],
   "source": [
    "data['BvsA_convertion_cumm'] = (\n",
    "    data['B_convertion_cumm'] / data['A_convertion_cumm']) - 1\n",
    "data.plot(\n",
    "    x = 'date_m_d',\n",
    "    y = 'BvsA_convertion_cumm',\n",
    "    legend = False,\n",
    "    grid = True,\n",
    "    figsize = (10,5),\n",
    "    title = 'Относительное изменение кумулятивной конверсии группы B к конверсии группы A'\n",
    ")\n",
    "plt.ylabel('Относительное изменение')\n",
    "plt.xlabel('Дата')\n",
    "plt.axhline(y = 0.1, color = 'blue', linestyle = '--');"
   ]
  },
  {
   "cell_type": "markdown",
   "metadata": {},
   "source": [
    "Относительная конверсия в группе B по отношению к группе A к концу месяца зафиксировалась на уровне 0,1, т.е в целом конверсия в группе B более чем на 10 % больше конверсии в группе A.\n",
    "### Количество заказов по пользователям"
   ]
  },
  {
   "cell_type": "code",
   "execution_count": 24,
   "metadata": {},
   "outputs": [
    {
     "data": {
      "text/html": [
       "<div>\n",
       "<style scoped>\n",
       "    .dataframe tbody tr th:only-of-type {\n",
       "        vertical-align: middle;\n",
       "    }\n",
       "\n",
       "    .dataframe tbody tr th {\n",
       "        vertical-align: top;\n",
       "    }\n",
       "\n",
       "    .dataframe thead th {\n",
       "        text-align: right;\n",
       "    }\n",
       "</style>\n",
       "<table border=\"1\" class=\"dataframe\">\n",
       "  <thead>\n",
       "    <tr style=\"text-align: right;\">\n",
       "      <th></th>\n",
       "      <th>number</th>\n",
       "      <th>user_id</th>\n",
       "      <th>orders_quantity</th>\n",
       "    </tr>\n",
       "  </thead>\n",
       "  <tbody>\n",
       "    <tr>\n",
       "      <td>1023</td>\n",
       "      <td>1023</td>\n",
       "      <td>4256040402</td>\n",
       "      <td>11</td>\n",
       "    </tr>\n",
       "    <tr>\n",
       "      <td>591</td>\n",
       "      <td>591</td>\n",
       "      <td>2458001652</td>\n",
       "      <td>11</td>\n",
       "    </tr>\n",
       "    <tr>\n",
       "      <td>569</td>\n",
       "      <td>569</td>\n",
       "      <td>2378935119</td>\n",
       "      <td>9</td>\n",
       "    </tr>\n",
       "    <tr>\n",
       "      <td>487</td>\n",
       "      <td>487</td>\n",
       "      <td>2038680547</td>\n",
       "      <td>8</td>\n",
       "    </tr>\n",
       "    <tr>\n",
       "      <td>44</td>\n",
       "      <td>44</td>\n",
       "      <td>199603092</td>\n",
       "      <td>5</td>\n",
       "    </tr>\n",
       "  </tbody>\n",
       "</table>\n",
       "</div>"
      ],
      "text/plain": [
       "      number     user_id  orders_quantity\n",
       "1023    1023  4256040402               11\n",
       "591      591  2458001652               11\n",
       "569      569  2378935119                9\n",
       "487      487  2038680547                8\n",
       "44        44   199603092                5"
      ]
     },
     "execution_count": 24,
     "metadata": {},
     "output_type": "execute_result"
    }
   ],
   "source": [
    "orders_by_users = orders[['visitorId','transactionId']].groupby(\n",
    "    'visitorId', as_index = False)['transactionId'].count().reset_index()\n",
    "orders_by_users.columns = ['number','user_id','orders_quantity']\n",
    "orders_by_users.sort_values(by='orders_quantity', ascending = False).head(5)"
   ]
  },
  {
   "cell_type": "code",
   "execution_count": 25,
   "metadata": {},
   "outputs": [
    {
     "data": {
      "image/png": "[encoded data removed]",
      "text/plain": [
       "<Figure size 720x360 with 1 Axes>"
      ]
     },
     "metadata": {
      "needs_background": "light"
     },
     "output_type": "display_data"
    }
   ],
   "source": [
    "orders_by_users.plot(\n",
    "    kind = 'scatter',\n",
    "    x = 'number',\n",
    "    y = 'orders_quantity',\n",
    "    title = 'Заказы пользователей',\n",
    "    figsize=(10,5)\n",
    ");\n",
    "plt.ylabel('Кол-во заказов')\n",
    "plt.xlabel('');"
   ]
  },
  {
   "cell_type": "markdown",
   "metadata": {},
   "source": [
    "Большинство пользователей в течение периода наблюдения совершали 1 покупку, реже - 2. Лишь единицы совершали более 3 покупок.\n",
    "\n",
    "### Перцентили заказов на пользователя"
   ]
  },
  {
   "cell_type": "code",
   "execution_count": 26,
   "metadata": {},
   "outputs": [],
   "source": [
    "np.percentile(orders_by_users['orders_quantity'], [95,99])\n",
    "orders_lim = 3"
   ]
  },
  {
   "cell_type": "markdown",
   "metadata": {},
   "source": [
    "5 % пользователей заказывают более 2 раз, 1 % пользователей заказывают более 4 раз. За границу для определения аномального количества заказов принимается 3 заказа на пользователя \n",
    "### График стоимостей заказов"
   ]
  },
  {
   "cell_type": "code",
   "execution_count": 27,
   "metadata": {},
   "outputs": [
    {
     "data": {
      "image/png": "[encoded data removed]",
      "text/plain": [
       "<Figure size 1224x360 with 2 Axes>"
      ]
     },
     "metadata": {
      "needs_background": "light"
     },
     "output_type": "display_data"
    }
   ],
   "source": [
    "orders['x_values'] = range(0,len(orders)) \n",
    "plt.subplots(figsize = (17,5))\n",
    "plot = orders.plot(\n",
    "    kind = 'scatter',\n",
    "    x = 'x_values',\n",
    "    y = 'revenue',\n",
    "    ax = plt.subplot(1,2,1)\n",
    ")\n",
    "plt.xlabel('')\n",
    "plt.ylabel('Выручка');\n",
    "plot = orders.plot(\n",
    "    kind = 'scatter',\n",
    "    x = 'x_values',\n",
    "    y = 'revenue',\n",
    "    ax = plt.subplot(1,2,2)\n",
    ")\n",
    "plt.xlabel('')\n",
    "plt.ylabel('Выручка')\n",
    "plt.ylim(0,210000);"
   ]
  },
  {
   "cell_type": "markdown",
   "metadata": {},
   "source": [
    "Большая часть заказов приносит выручку в размере, не превышающем 25 000 рублей (видно на графике справа). Наблюдаются два резко аномальных значения: одно в размере, превышающем 1 млн.рублей, другое около 200 000 тыс.рублей.\n",
    "### Перцентили выручки от заказа"
   ]
  },
  {
   "cell_type": "code",
   "execution_count": 28,
   "metadata": {},
   "outputs": [],
   "source": [
    "np.percentile(orders['revenue'], [95,99])\n",
    "revenue_lim = 50000"
   ]
  },
  {
   "cell_type": "markdown",
   "metadata": {},
   "source": [
    "5 % пользователей совершают заказы стоимостью более 28 т.р, а 1 % пользователей - более 58 т.р.\n",
    "С учетом графика, граница для определения аномальных заказов опеределена как 50 000 р.  \n",
    "### Статистическая значимость различий в конверсии между группами\n",
    "Проводится по \"сырым\" данным, т.е с учетом аномальных значений числа и стоимости покупок"
   ]
  },
  {
   "cell_type": "code",
   "execution_count": 29,
   "metadata": {},
   "outputs": [],
   "source": [
    "# список пользователей, совершавших заказы, с количеством их заказов\n",
    "orders_A_users = orders[orders['group'] == 'A'].groupby(\n",
    "    'visitorId', as_index = False).agg({'transactionId' : pd.Series.nunique})\n",
    "orders_B_users = orders[orders['group'] == 'B'].groupby(\n",
    "    'visitorId', as_index = False).agg({'transactionId' : pd.Series.nunique})\n",
    "\n",
    "#переименование столбцов\n",
    "orders_A_users.columns = ['user_id','orders_quantity']\n",
    "orders_B_users.columns = ['user_id','orders_quantity']\n",
    "\n",
    "# списки соответствия 'пользователь - кол-во заказов' для всех пользователей в каждой группе\n",
    "\n",
    "sample_A = pd.concat([\n",
    "    orders_A_users['orders_quantity'],\n",
    "    pd.Series(0, index = np.arange(data['A_visitors'].sum() - len(\n",
    "        orders_A_users['orders_quantity'])),\n",
    "              name = 'orders_quantity')], axis = 0)\n",
    "\n",
    "sample_B = pd.concat([\n",
    "    orders_B_users['orders_quantity'],\n",
    "    pd.Series(0, index = np.arange(data['B_visitors'].sum() - len(\n",
    "        orders_B_users['orders_quantity'])),\n",
    "              name = 'orders_quantity')], axis = 0)"
   ]
  },
  {
   "cell_type": "markdown",
   "metadata": {},
   "source": [
    "После подготовки данных применяется критерий Манна-Уитни.\n",
    "\n",
    "Критерий значимости 0,05"
   ]
  },
  {
   "cell_type": "code",
   "execution_count": 30,
   "metadata": {},
   "outputs": [
    {
     "name": "stdout",
     "output_type": "stream",
     "text": [
      "p-value критерия Манна-Уитни: 0.008\n",
      "Относительный прирост конверсии группы B к конверсии группы A: 13.8%\n"
     ]
    }
   ],
   "source": [
    "print('p-value критерия Манна-Уитни: {:.3f}'.format(stats.mannwhitneyu(\n",
    "    sample_A,\n",
    "    sample_B)[1]))\n",
    "print('Относительный прирост конверсии группы B к конверсии группы A: {:.1%}'.format(\n",
    "    sample_B.mean()/sample_A.mean() - 1))"
   ]
  },
  {
   "cell_type": "markdown",
   "metadata": {},
   "source": [
    "Конверсия группы B по сравнению с конверсией группы A увеличилась почти на 15 %. \n",
    "\n",
    "Увеличение является статистически значимым. Проведено сравнение сырых данных, без исключения выбросов.\n",
    "### Статистическая значимость различий размера среднего чека групп A и B\n",
    "Сравнение производится по \"сырым\" данным\n",
    "\n",
    "Уровень значимости 5 %"
   ]
  },
  {
   "cell_type": "code",
   "execution_count": 31,
   "metadata": {},
   "outputs": [
    {
     "name": "stdout",
     "output_type": "stream",
     "text": [
      "p-value критерия Манна-Уитни: 0.365\n",
      "Относительный прирост среднего чека группы B к среднему чеку A: 25.9%\n"
     ]
    }
   ],
   "source": [
    "print('p-value критерия Манна-Уитни: {:.3f}'.format(\n",
    "    stats.mannwhitneyu(\n",
    "        orders[orders['group'] == 'A']['revenue'],\n",
    "        orders[orders['group'] == 'B']['revenue']\n",
    "    )[1]))\n",
    "\n",
    "print('Относительный прирост среднего чека группы B к среднему чеку A: {:.1%}'.format(\n",
    "    orders[orders['group'] == 'B']['revenue'].mean() / orders[\n",
    "        orders['group'] == 'A']['revenue'].mean() - 1)\n",
    "     )"
   ]
  },
  {
   "cell_type": "markdown",
   "metadata": {},
   "source": [
    "p-value значительно выше уровня значимости: статистически значимого различия значения среднего чека в группах A и B нет, хотя значение к группе B и выше, чем в группе A, вероятно, за счет обнаруженной ранее аномальной покупки (19 августа):"
   ]
  },
  {
   "cell_type": "code",
   "execution_count": 32,
   "metadata": {},
   "outputs": [
    {
     "data": {
      "text/html": [
       "<div>\n",
       "<style scoped>\n",
       "    .dataframe tbody tr th:only-of-type {\n",
       "        vertical-align: middle;\n",
       "    }\n",
       "\n",
       "    .dataframe tbody tr th {\n",
       "        vertical-align: top;\n",
       "    }\n",
       "\n",
       "    .dataframe thead th {\n",
       "        text-align: right;\n",
       "    }\n",
       "</style>\n",
       "<table border=\"1\" class=\"dataframe\">\n",
       "  <thead>\n",
       "    <tr style=\"text-align: right;\">\n",
       "      <th></th>\n",
       "      <th>transactionId</th>\n",
       "      <th>visitorId</th>\n",
       "      <th>date</th>\n",
       "      <th>revenue</th>\n",
       "      <th>group</th>\n",
       "      <th>x_values</th>\n",
       "    </tr>\n",
       "  </thead>\n",
       "  <tbody>\n",
       "    <tr>\n",
       "      <td>425</td>\n",
       "      <td>590470918</td>\n",
       "      <td>1920142716</td>\n",
       "      <td>2019-08-19</td>\n",
       "      <td>1294500</td>\n",
       "      <td>B</td>\n",
       "      <td>425</td>\n",
       "    </tr>\n",
       "  </tbody>\n",
       "</table>\n",
       "</div>"
      ],
      "text/plain": [
       "     transactionId   visitorId       date  revenue group  x_values\n",
       "425      590470918  1920142716 2019-08-19  1294500     B       425"
      ]
     },
     "execution_count": 32,
     "metadata": {},
     "output_type": "execute_result"
    }
   ],
   "source": [
    "orders[np.logical_and(orders['date'] == '2019-08-19',\n",
    "                      orders['revenue'] > 100000)]"
   ]
  },
  {
   "cell_type": "markdown",
   "metadata": {},
   "source": [
    "### Различие в конверсии между группами по \"очищенным\" данным"
   ]
  },
  {
   "cell_type": "markdown",
   "metadata": {},
   "source": [
    "Ранее была выявлена аномальная покупка в группе B, принесшая выручку в размере 1 294 500 рублей. Этот, а также другие выбросы, оказывают сильное влияние на результаты применения статистических критерия, а также на кумулятивные метрики.\n",
    "\n",
    "Ранее были определены границы, отделяющие аномальные значения:\n",
    "- по кол-ву покупок - не более 3;\n",
    "- по сумме выручки с заказа - не более 50 000 р.\n",
    "\n",
    "\"Аномальные\" пользователи выделяются в отдельную группу"
   ]
  },
  {
   "cell_type": "code",
   "execution_count": 33,
   "metadata": {},
   "outputs": [
    {
     "name": "stdout",
     "output_type": "stream",
     "text": [
      "Кол-во аномальных пользователей:  26\n"
     ]
    }
   ],
   "source": [
    "# часто покупающие пользователи\n",
    "users_often_buying = pd.concat([\n",
    "    orders_A_users[orders_A_users['orders_quantity'] > orders_lim]['user_id'],\n",
    "    orders_B_users[orders_B_users['orders_quantity'] > orders_lim]['user_id']\n",
    "], axis = 0) \n",
    "\n",
    "# много покупающие пользователи\n",
    "\n",
    "users_expensive_buying = orders[orders['revenue'] > revenue_lim]['visitorId']\n",
    "\n",
    "# \"аномальные пользователи\"\n",
    "\n",
    "abnormal_users = pd.concat([\n",
    "    users_often_buying,\n",
    "    users_expensive_buying\n",
    "], axis = 0).drop_duplicates().sort_values()\n",
    "\n",
    "print('Кол-во аномальных пользователей: ', len(abnormal_users))"
   ]
  },
  {
   "cell_type": "markdown",
   "metadata": {},
   "source": [
    "Подготовка отфильтрованных от выбросов данных:"
   ]
  },
  {
   "cell_type": "code",
   "execution_count": 34,
   "metadata": {},
   "outputs": [],
   "source": [
    "sample_A_filtered = pd.concat([\n",
    "    orders_A_users[~orders_A_users['user_id'].isin(abnormal_users)]['orders_quantity'],\n",
    "    pd.Series(0, index = np.arange(data['A_visitors'].sum() - len(\n",
    "        orders_A_users[~orders_A_users['user_id'].isin(abnormal_users)])),\n",
    "              name = 'orders_quantity')], axis = 0)\n",
    "\n",
    "sample_B_filtered = pd.concat([\n",
    "    orders_B_users[~orders_B_users['user_id'].isin(abnormal_users)]['orders_quantity'],\n",
    "    pd.Series(0, index = np.arange(data['B_visitors'].sum() - len(\n",
    "        orders_B_users[~orders_B_users['user_id'].isin(abnormal_users)])),\n",
    "             name = 'orders_quantity')], axis = 0)"
   ]
  },
  {
   "cell_type": "code",
   "execution_count": 35,
   "metadata": {},
   "outputs": [
    {
     "name": "stdout",
     "output_type": "stream",
     "text": [
      "p-value критерия Манна-Уитни: 0.006\n",
      "Относительный прирост конверсии группы B к конверсии группы A: 15.8%\n"
     ]
    }
   ],
   "source": [
    "print('p-value критерия Манна-Уитни: {:.3f}'.format(stats.mannwhitneyu(\n",
    "    sample_A_filtered,\n",
    "    sample_B_filtered)[1]))\n",
    "print('Относительный прирост конверсии группы B к конверсии группы A: {:.1%}'.format(\n",
    "    sample_B_filtered.mean()/sample_A_filtered.mean() - 1))"
   ]
  },
  {
   "cell_type": "markdown",
   "metadata": {},
   "source": [
    "Уровень статистической значимости 0,05\n",
    "\n",
    "После очистки данных от аномальных пользователей, сохраняется статистическая значимость роста конверсии в группе B в сравнении с конверсией в группе A на уровне 15 %. \n",
    "### Различие величины среднего чека между группами по \"очищенным\" данным\n",
    "Уровень статистической значимости 0,05"
   ]
  },
  {
   "cell_type": "code",
   "execution_count": 36,
   "metadata": {},
   "outputs": [
    {
     "name": "stdout",
     "output_type": "stream",
     "text": [
      "p-value критерия Манна-Уитни: 0.409\n",
      "Относительный прирост среднего чека группы B к среднему чеку A: 2.4%\n"
     ]
    }
   ],
   "source": [
    "print('p-value критерия Манна-Уитни: {:.3f}'.format(\n",
    "    stats.mannwhitneyu(\n",
    "        orders[np.logical_and(\n",
    "            orders['group'] == 'A',\n",
    "            np.logical_not(orders['visitorId'].isin(abnormal_users)))]['revenue'],\n",
    "        orders[np.logical_and(\n",
    "            orders['group'] == 'B',\n",
    "            np.logical_not(orders['visitorId'].isin(abnormal_users)))]['revenue']\n",
    "    )[1]))\n",
    "\n",
    "print('Относительный прирост среднего чека группы B к среднему чеку A: {:.1%}'.format(\n",
    "    orders[np.logical_and(\n",
    "        orders['group'] == 'B',\n",
    "        np.logical_not(orders['visitorId'].isin(abnormal_users)))]['revenue'].mean() / orders[\n",
    "        np.logical_and(orders['group'] == 'A',\n",
    "                       np.logical_not(\n",
    "                           orders['visitorId'].isin(abnormal_users)))]['revenue'].mean() - 1)\n",
    "     )"
   ]
  },
  {
   "cell_type": "markdown",
   "metadata": {},
   "source": [
    "После удаления выбросов, различие значений среднего чека в группах также статистически незначимое, а величина относительного прироста чека группы B к чеку группы A скорретировалась до 2,4 %."
   ]
  },
  {
   "cell_type": "markdown",
   "metadata": {},
   "source": [
    "## Выводы\n",
    "Проверялась гипотеза об увеличении конверсии и среднего чека в результате добавления блоков рекомендаций.\n",
    "\n",
    "Перед формированием выводов следует обратить внимание на следующее:\n",
    "1. Часть гипотез сформулирована некорректно. Необходимо четко обозначить тестируемое изменение и определить его следствия в виде изменения метрик до приоритезации гипотез.\n",
    "2. Следует обратить внимание на качество проведенного A/B-теста: в данных 58 пользователей совершали покупки, находясь как в группе A, так и в группе B\n",
    "\n",
    "В результате анализа данных A/B-теста выявлено:\n",
    "1. Статистически значимый прирост конверсии в исследуемой группе в сравнении с контрольной на уровне 15 %;\n",
    "2. Отсутствие статистически значимого прироста величины среднего чека в исследуемой группе в сравнении с контрольной. Рост к концу месяца, при удалении выбросов, составляет около 2 %.\n",
    "3. Графики абсолютных и относительных метрик стабилизировались только к концу месяца, т.е на данный момент говорить о фиксации результата преждевременно. \n",
    "\n",
    "Следует продолжить тест еще в течение недели. \n",
    "\n",
    "<b>Предварительные выводы таковы:</b> добавление блоков рекомендаций приводит к росту конверсии. Размер среднего чека при этом не изменяется."
   ]
  }
 ],
 "metadata": {
  "kernelspec": {
   "display_name": "Python 3",
   "language": "python",
   "name": "python3"
  },
  "language_info": {
   "codemirror_mode": {
    "name": "ipython",
    "version": 3
   },
   "file_extension": ".py",
   "mimetype": "text/x-python",
   "name": "python",
   "nbconvert_exporter": "python",
   "pygments_lexer": "ipython3",
   "version": "3.7.3"
  }
 },
 "nbformat": 4,
 "nbformat_minor": 2
}
